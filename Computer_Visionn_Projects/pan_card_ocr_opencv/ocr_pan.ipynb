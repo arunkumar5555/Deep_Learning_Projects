{
  "nbformat": 4,
  "nbformat_minor": 0,
  "metadata": {
    "colab": {
      "name": "ocr-pan.ipynb",
      "provenance": [],
      "collapsed_sections": []
    },
    "kernelspec": {
      "name": "python3",
      "display_name": "Python 3"
    },
    "accelerator": "GPU"
  },
  "cells": [
    {
      "cell_type": "code",
      "metadata": {
        "colab": {
          "base_uri": "https://localhost:8080/"
        },
        "id": "dTYBscnsTXLQ",
        "outputId": "1ab301b7-4d4a-432a-f19d-cddbc156d940"
      },
      "source": [
        "!pip install ftfy"
      ],
      "execution_count": 3,
      "outputs": [
        {
          "output_type": "stream",
          "text": [
            "Collecting ftfy\n",
            "\u001b[?25l  Downloading https://files.pythonhosted.org/packages/04/06/e5c80e2e0f979628d47345efba51f7ba386fe95963b11c594209085f5a9b/ftfy-5.9.tar.gz (66kB)\n",
            "\r\u001b[K     |█████                           | 10kB 17.5MB/s eta 0:00:01\r\u001b[K     |██████████                      | 20kB 7.6MB/s eta 0:00:01\r\u001b[K     |██████████████▉                 | 30kB 8.2MB/s eta 0:00:01\r\u001b[K     |███████████████████▉            | 40kB 7.7MB/s eta 0:00:01\r\u001b[K     |████████████████████████▉       | 51kB 4.8MB/s eta 0:00:01\r\u001b[K     |█████████████████████████████▊  | 61kB 4.8MB/s eta 0:00:01\r\u001b[K     |████████████████████████████████| 71kB 3.4MB/s \n",
            "\u001b[?25hRequirement already satisfied: wcwidth in /usr/local/lib/python3.7/dist-packages (from ftfy) (0.2.5)\n",
            "Building wheels for collected packages: ftfy\n",
            "  Building wheel for ftfy (setup.py) ... \u001b[?25l\u001b[?25hdone\n",
            "  Created wheel for ftfy: filename=ftfy-5.9-cp37-none-any.whl size=46451 sha256=e326f78ad3409cadf1fb3761b6b432f9ceb5b0e51fec537ea047f31712c58a3d\n",
            "  Stored in directory: /root/.cache/pip/wheels/5e/2e/f0/b07196e8c929114998f0316894a61c752b63bfa3fdd50d2fc3\n",
            "Successfully built ftfy\n",
            "Installing collected packages: ftfy\n",
            "Successfully installed ftfy-5.9\n"
          ],
          "name": "stdout"
        }
      ]
    },
    {
      "cell_type": "code",
      "metadata": {
        "colab": {
          "base_uri": "https://localhost:8080/"
        },
        "id": "FfoPPKfMGvDG",
        "outputId": "fd17237f-589a-4134-dc64-f331f1d4e6d4"
      },
      "source": [
        "!pip install pytesseract"
      ],
      "execution_count": 4,
      "outputs": [
        {
          "output_type": "stream",
          "text": [
            "Collecting pytesseract\n",
            "  Downloading https://files.pythonhosted.org/packages/a0/e6/a4e9fc8a93c1318540e8de6d8d4beb5749b7960388a7c7f27799fc2dd016/pytesseract-0.3.7.tar.gz\n",
            "Requirement already satisfied: Pillow in /usr/local/lib/python3.7/dist-packages (from pytesseract) (7.0.0)\n",
            "Building wheels for collected packages: pytesseract\n",
            "  Building wheel for pytesseract (setup.py) ... \u001b[?25l\u001b[?25hdone\n",
            "  Created wheel for pytesseract: filename=pytesseract-0.3.7-py2.py3-none-any.whl size=13945 sha256=635962ff9e928100eae4f233c75d6f75ecc1ee72461aa0677d8f521610bc6546\n",
            "  Stored in directory: /root/.cache/pip/wheels/81/20/7e/1dd0daad1575d5260916bb1e9781246430647adaef4b3ca3b3\n",
            "Successfully built pytesseract\n",
            "Installing collected packages: pytesseract\n",
            "Successfully installed pytesseract-0.3.7\n"
          ],
          "name": "stdout"
        }
      ]
    },
    {
      "cell_type": "code",
      "metadata": {
        "colab": {
          "base_uri": "https://localhost:8080/"
        },
        "id": "KCMvkyq3HlDo",
        "outputId": "b49d9eb8-4912-4f2b-e1f1-d7fd7098998a"
      },
      "source": [
        "# for ocr  \n",
        "\n",
        "!sudo apt install tesseract-ocr"
      ],
      "execution_count": 5,
      "outputs": [
        {
          "output_type": "stream",
          "text": [
            "Reading package lists... Done\n",
            "Building dependency tree       \n",
            "Reading state information... Done\n",
            "The following additional packages will be installed:\n",
            "  tesseract-ocr-eng tesseract-ocr-osd\n",
            "The following NEW packages will be installed:\n",
            "  tesseract-ocr tesseract-ocr-eng tesseract-ocr-osd\n",
            "0 upgraded, 3 newly installed, 0 to remove and 30 not upgraded.\n",
            "Need to get 4,795 kB of archives.\n",
            "After this operation, 15.8 MB of additional disk space will be used.\n",
            "Get:1 http://archive.ubuntu.com/ubuntu bionic/universe amd64 tesseract-ocr-eng all 4.00~git24-0e00fe6-1.2 [1,588 kB]\n",
            "Get:2 http://archive.ubuntu.com/ubuntu bionic/universe amd64 tesseract-ocr-osd all 4.00~git24-0e00fe6-1.2 [2,989 kB]\n",
            "Get:3 http://archive.ubuntu.com/ubuntu bionic/universe amd64 tesseract-ocr amd64 4.00~git2288-10f4998a-2 [218 kB]\n",
            "Fetched 4,795 kB in 1s (4,562 kB/s)\n",
            "debconf: unable to initialize frontend: Dialog\n",
            "debconf: (No usable dialog-like program is installed, so the dialog based frontend cannot be used. at /usr/share/perl5/Debconf/FrontEnd/Dialog.pm line 76, <> line 3.)\n",
            "debconf: falling back to frontend: Readline\n",
            "debconf: unable to initialize frontend: Readline\n",
            "debconf: (This frontend requires a controlling tty.)\n",
            "debconf: falling back to frontend: Teletype\n",
            "dpkg-preconfigure: unable to re-open stdin: \n",
            "Selecting previously unselected package tesseract-ocr-eng.\n",
            "(Reading database ... 160980 files and directories currently installed.)\n",
            "Preparing to unpack .../tesseract-ocr-eng_4.00~git24-0e00fe6-1.2_all.deb ...\n",
            "Unpacking tesseract-ocr-eng (4.00~git24-0e00fe6-1.2) ...\n",
            "Selecting previously unselected package tesseract-ocr-osd.\n",
            "Preparing to unpack .../tesseract-ocr-osd_4.00~git24-0e00fe6-1.2_all.deb ...\n",
            "Unpacking tesseract-ocr-osd (4.00~git24-0e00fe6-1.2) ...\n",
            "Selecting previously unselected package tesseract-ocr.\n",
            "Preparing to unpack .../tesseract-ocr_4.00~git2288-10f4998a-2_amd64.deb ...\n",
            "Unpacking tesseract-ocr (4.00~git2288-10f4998a-2) ...\n",
            "Setting up tesseract-ocr-osd (4.00~git24-0e00fe6-1.2) ...\n",
            "Setting up tesseract-ocr-eng (4.00~git24-0e00fe6-1.2) ...\n",
            "Setting up tesseract-ocr (4.00~git2288-10f4998a-2) ...\n",
            "Processing triggers for man-db (2.8.3-2ubuntu0.1) ...\n"
          ],
          "name": "stdout"
        }
      ]
    },
    {
      "cell_type": "code",
      "metadata": {
        "id": "UtHA0yvHGfwS"
      },
      "source": [
        "import os\n",
        "import ftfy\n",
        "import pytesseract\n",
        "import re\n",
        "import math\n",
        "from scipy import ndimage\n",
        "import cv2\n",
        "import numpy as np\n",
        "\n",
        "# reading file from path\n",
        "def pan(image_path):\n",
        "    \n",
        "    img = cv2.imread(image_path)\n",
        "    img_before = cv2.imread(image_path)\n",
        "    img_gray = cv2.cvtColor(img_before, cv2.COLOR_BGR2GRAY)# converting image to gray scale to remove noise and colour complexity\n",
        "    img_edges = cv2.Canny(img_gray, 100, 100, apertureSize=3)# canny edge detector detects edges in an image\n",
        "    \n",
        "#Calculating rotation angle of the image\n",
        "    lines = cv2.HoughLinesP(img_edges, 1, math.pi / 180.0, 100, minLineLength=100, maxLineGap=5 )#detects any shape but here horizontal lines if any\n",
        "\n",
        "    # Caclulating angle of lines detected \n",
        "    angles = []\n",
        "\n",
        "    for [[x1, y1, x2, y2]] in lines:\n",
        "        cv2.line(img_before, (x1, y1), (x2, y2), (255, 0, 0), 3)\n",
        "        angle = math.degrees(math.atan2(y2 - y1, x2 - x1))\n",
        "        angles.append(angle)\n",
        "    median_angle = np.median(angles)\n",
        "    # print(\"image rotated by\",median_angle,\"angle\")\n",
        "    \n",
        "    \n",
        "\n",
        "# If-else block to check and rotate image and applying  pytesseract on final rotated images\n",
        "    if median_angle!=0:\n",
        "        img_rotated = ndimage.rotate(img, (median_angle*2-1))\n",
        "    # extracting text from image using tesseract\n",
        "        text = pytesseract.image_to_string(img_rotated)\n",
        "    else:\n",
        "        text = pytesseract.image_to_string(img_gray)\n",
        "\n",
        "    text = ftfy.fix_text(text)\n",
        "\n",
        "    \n",
        "    \n",
        "# Applying regex to obtain date(dob) and Pan number\n",
        "    dob=re.search(r'\\d{2}/\\d{2}/\\d{4}', text)    # regex for date of birth\n",
        "    pan_no=re.search('[A-Z]{5}[0-9]{4}[A-Z]{1}',text)  #regex for pan_number\n",
        "    print(\"pan card number:\",pan_no.group()) \n",
        "    print(\"dob on pan card:\",dob.group())\n",
        "    # bounding_box(img)\n",
        "\n",
        "def bounding_box(img):\n",
        "\n",
        "    cord = output[index][0]\n",
        "    cord1 = output[index1][0]\n",
        "\n",
        "    x_min, y_min = [int(min(idx)) for idx in zip(*cord)]\n",
        "    x_max, y_max = [int(max(idx)) for idx in zip(*cord)]\n",
        "    x1_min, y1_min = [int(min(idx)) for idx in zip(*cord1)]\n",
        "    x1_max, y1_max = [int(max(idx)) for idx in zip(*cord1)]\n",
        "\n",
        "    # image = cv2.imread(img)\n",
        "    cv2.rectangle(img,(x_min,y_min),(x_max,y_max),(0,0,255),2)\n",
        "    plt.imshow(cv2.cvtColor(img, cv2.COLOR_BGR2RGB))\n",
        "\n",
        "    cv2.rectangle(image,(x1_min,y1_min),(x1_max,y1_max),(0,0,255),2)\n",
        "    plt.imshow(cv2.cvtColor(img, cv2.COLOR_BGR2RGB))\n"
      ],
      "execution_count": 9,
      "outputs": []
    },
    {
      "cell_type": "code",
      "metadata": {
        "colab": {
          "base_uri": "https://localhost:8080/"
        },
        "id": "r7cX2nPhGht4",
        "outputId": "b93e1a5e-6247-444f-c659-a2ad38a848e3"
      },
      "source": [
        "print(\"pan_car_1_details\")\n",
        "pan('/content/sample_data/card1.jpg')\n",
        "print(\"\\npan_car_2_details\")\n",
        "pan('/content/sample_data/card2.jpg')\n",
        "print(\"\\npan_car_3_details\")\n",
        "pan('/content/sample_data/card3.jpg')"
      ],
      "execution_count": 10,
      "outputs": [
        {
          "output_type": "stream",
          "text": [
            "pan_car_1_details\n",
            "pan card number: ELWPM8089J\n",
            "dob on pan card: 30/01/1997\n",
            "\n",
            "pan_car_2_details\n",
            "pan card number: BXAPC1000L\n",
            "dob on pan card: 13/09/1996\n",
            "\n",
            "pan_car_3_details\n",
            "pan card number: BGYPJ0129A\n",
            "dob on pan card: 18/03/1996\n"
          ],
          "name": "stdout"
        }
      ]
    },
    {
      "cell_type": "code",
      "metadata": {
        "id": "0ztV6pKUS21L"
      },
      "source": [
        ""
      ],
      "execution_count": null,
      "outputs": []
    }
  ]
}
