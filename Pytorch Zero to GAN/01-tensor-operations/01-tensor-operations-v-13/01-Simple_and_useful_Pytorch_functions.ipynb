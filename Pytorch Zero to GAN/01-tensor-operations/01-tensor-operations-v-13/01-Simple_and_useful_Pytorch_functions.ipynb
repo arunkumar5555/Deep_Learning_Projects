{
 "cells": [
  {
   "cell_type": "markdown",
   "metadata": {
    "id": "ipMqO-2I7QRa"
   },
   "source": [
    "# Simple and useful Pytorch functions\n",
    "\n",
    "\n",
    "In this notebook I'll describe some useful Pytorch functions. \n",
    "\n",
    "\n",
    "\n",
    "*   torch.rand()\n",
    "*   unfold(dimension, size, step) → Tensor\n",
    "*   torch.transpose()\n",
    "*   std_mean()\n",
    "*   torch.inverse()\n",
    "\n",
    "\n",
    "\n",
    "\n",
    "\n",
    "\n",
    "\n",
    "\n",
    "Before we begin, let's install and import PyTorch"
   ]
  },
  {
   "cell_type": "code",
   "execution_count": 49,
   "metadata": {
    "executionInfo": {
     "elapsed": 817,
     "status": "ok",
     "timestamp": 1619757829623,
     "user": {
      "displayName": "arun",
      "photoUrl": "https://lh3.googleusercontent.com/a-/AOh14GiZjC1NqmLHLG04TOAX59OXmxfoAjcgOrpA34WVvw=s64",
      "userId": "12591767503691125936"
     },
     "user_tz": -330
    },
    "id": "Cie5tvfp7QRf"
   },
   "outputs": [],
   "source": [
    "# Import torch and other required modules\n",
    "import torch"
   ]
  },
  {
   "cell_type": "markdown",
   "metadata": {
    "id": "sYNL8zrZ7QRk"
   },
   "source": [
    "## Function 1 - torch.rand ()\n",
    "\n",
    "Returns a tensor filled with random numbers from a uniform distribution on the interval [0, 1)[0,1)\n",
    "\n",
    "The shape of the tensor is defined by the variable argument size."
   ]
  },
  {
   "cell_type": "code",
   "execution_count": 50,
   "metadata": {
    "colab": {
     "base_uri": "https://localhost:8080/"
    },
    "executionInfo": {
     "elapsed": 783,
     "status": "ok",
     "timestamp": 1619757831087,
     "user": {
      "displayName": "arun",
      "photoUrl": "https://lh3.googleusercontent.com/a-/AOh14GiZjC1NqmLHLG04TOAX59OXmxfoAjcgOrpA34WVvw=s64",
      "userId": "12591767503691125936"
     },
     "user_tz": -330
    },
    "id": "vcHL3xax7QRs",
    "outputId": "98f94ffe-f8a3-4561-a5f1-a4f34dd13aed"
   },
   "outputs": [
    {
     "data": {
      "text/plain": [
       "tensor([0.9458, 0.6378, 0.7915, 0.8656, 0.0322, 0.2377, 0.2829, 0.9904, 0.9975,\n",
       "        0.0840])"
      ]
     },
     "execution_count": 50,
     "metadata": {
      "tags": []
     },
     "output_type": "execute_result"
    }
   ],
   "source": [
    "# Example 1 \n",
    "torch.rand(10)"
   ]
  },
  {
   "cell_type": "markdown",
   "metadata": {
    "id": "FKRFdvm27QRy"
   },
   "source": [
    "In this example we use the torch.rand () function to create a one-dimensional tensor with 10 random elements between 0 to 1."
   ]
  },
  {
   "cell_type": "code",
   "execution_count": 51,
   "metadata": {
    "colab": {
     "base_uri": "https://localhost:8080/"
    },
    "executionInfo": {
     "elapsed": 961,
     "status": "ok",
     "timestamp": 1619757832794,
     "user": {
      "displayName": "arun",
      "photoUrl": "https://lh3.googleusercontent.com/a-/AOh14GiZjC1NqmLHLG04TOAX59OXmxfoAjcgOrpA34WVvw=s64",
      "userId": "12591767503691125936"
     },
     "user_tz": -330
    },
    "id": "LbgUj-9K7QRz",
    "outputId": "63a0fe39-b986-4ee2-b4c9-e4c0a4dace4d"
   },
   "outputs": [
    {
     "data": {
      "text/plain": [
       "tensor([[0.3252, 0.2117, 0.9975],\n",
       "        [0.4390, 0.1001, 0.6663],\n",
       "        [0.7925, 0.7118, 0.4381],\n",
       "        [0.9549, 0.9133, 0.4492]])"
      ]
     },
     "execution_count": 51,
     "metadata": {
      "tags": []
     },
     "output_type": "execute_result"
    }
   ],
   "source": [
    "# Example 2 - working\n",
    "torch.rand(4, 3)"
   ]
  },
  {
   "cell_type": "markdown",
   "metadata": {
    "id": "v9DrHVDT7QR3"
   },
   "source": [
    "In this case, we create a 4\n",
    "-row, 3-column tensor with random elements between 0 and 1."
   ]
  },
  {
   "cell_type": "code",
   "execution_count": 52,
   "metadata": {
    "colab": {
     "base_uri": "https://localhost:8080/",
     "height": 197
    },
    "executionInfo": {
     "elapsed": 765,
     "status": "error",
     "timestamp": 1619757834242,
     "user": {
      "displayName": "arun",
      "photoUrl": "https://lh3.googleusercontent.com/a-/AOh14GiZjC1NqmLHLG04TOAX59OXmxfoAjcgOrpA34WVvw=s64",
      "userId": "12591767503691125936"
     },
     "user_tz": -330
    },
    "id": "_MTD84DD7QR2",
    "outputId": "64ddd584-9843-4f3a-b094-b3b04ef9c614"
   },
   "outputs": [
    {
     "ename": "RuntimeError",
     "evalue": "ignored",
     "output_type": "error",
     "traceback": [
      "\u001b[0;31m---------------------------------------------------------------------------\u001b[0m",
      "\u001b[0;31mRuntimeError\u001b[0m                              Traceback (most recent call last)",
      "\u001b[0;32m<ipython-input-52-4393e021cf49>\u001b[0m in \u001b[0;36m<module>\u001b[0;34m()\u001b[0m\n\u001b[1;32m      1\u001b[0m \u001b[0;31m# Example 3 - breaking\u001b[0m\u001b[0;34m\u001b[0m\u001b[0;34m\u001b[0m\u001b[0;34m\u001b[0m\u001b[0m\n\u001b[1;32m      2\u001b[0m \u001b[0;34m\u001b[0m\u001b[0m\n\u001b[0;32m----> 3\u001b[0;31m \u001b[0mtorch\u001b[0m\u001b[0;34m.\u001b[0m\u001b[0mrand\u001b[0m\u001b[0;34m(\u001b[0m\u001b[0;34m-\u001b[0m\u001b[0;36m1\u001b[0m\u001b[0;34m)\u001b[0m\u001b[0;34m\u001b[0m\u001b[0;34m\u001b[0m\u001b[0m\n\u001b[0m",
      "\u001b[0;31mRuntimeError\u001b[0m: Trying to create tensor with negative dimension -1: [-1]"
     ]
    }
   ],
   "source": [
    "# Example 3 - breaking \n",
    "\n",
    "torch.rand(-1)"
   ]
  },
  {
   "cell_type": "markdown",
   "metadata": {
    "id": "Iy_bOtld7QR1"
   },
   "source": [
    "The function fails if we try to create a tensor with non-coherent dimensions.\n",
    "\n",
    "The torch.rand () function is very useful for creating tensors in a simple and fast way."
   ]
  },
  {
   "cell_type": "markdown",
   "metadata": {
    "id": "RhJ8Posm7QR5"
   },
   "source": [
    "Let's save our work using Jovian before continuing."
   ]
  },
  {
   "cell_type": "code",
   "execution_count": 53,
   "metadata": {
    "executionInfo": {
     "elapsed": 4158,
     "status": "ok",
     "timestamp": 1619757840018,
     "user": {
      "displayName": "arun",
      "photoUrl": "https://lh3.googleusercontent.com/a-/AOh14GiZjC1NqmLHLG04TOAX59OXmxfoAjcgOrpA34WVvw=s64",
      "userId": "12591767503691125936"
     },
     "user_tz": -330
    },
    "id": "lacHiOAf7QR7"
   },
   "outputs": [],
   "source": [
    "!pip install jovian --upgrade --quiet"
   ]
  },
  {
   "cell_type": "code",
   "execution_count": 54,
   "metadata": {
    "executionInfo": {
     "elapsed": 3414,
     "status": "ok",
     "timestamp": 1619757840023,
     "user": {
      "displayName": "arun",
      "photoUrl": "https://lh3.googleusercontent.com/a-/AOh14GiZjC1NqmLHLG04TOAX59OXmxfoAjcgOrpA34WVvw=s64",
      "userId": "12591767503691125936"
     },
     "user_tz": -330
    },
    "id": "E3naHpBa7QR7"
   },
   "outputs": [],
   "source": [
    "import jovian"
   ]
  },
  {
   "cell_type": "code",
   "execution_count": 55,
   "metadata": {
    "colab": {
     "base_uri": "https://localhost:8080/",
     "height": 103
    },
    "executionInfo": {
     "elapsed": 5430,
     "status": "ok",
     "timestamp": 1619757842841,
     "user": {
      "displayName": "arun",
      "photoUrl": "https://lh3.googleusercontent.com/a-/AOh14GiZjC1NqmLHLG04TOAX59OXmxfoAjcgOrpA34WVvw=s64",
      "userId": "12591767503691125936"
     },
     "user_tz": -330
    },
    "id": "YxEHZeFF7QR8",
    "outputId": "070cc4d4-a036-446d-db32-aa376849cbe1"
   },
   "outputs": [
    {
     "name": "stdout",
     "output_type": "stream",
     "text": [
      "[jovian] Detected Colab notebook...\u001b[0m\n",
      "[jovian] Uploading colab notebook to Jovian...\u001b[0m\n",
      "[jovian] Capturing environment..\u001b[0m\n",
      "[jovian] Committed successfully! https://jovian.ai/arunkumar68330/01-tensor-operations\u001b[0m\n"
     ]
    },
    {
     "data": {
      "application/vnd.google.colaboratory.intrinsic+json": {
       "type": "string"
      },
      "text/plain": [
       "'https://jovian.ai/arunkumar68330/01-tensor-operations'"
      ]
     },
     "execution_count": 55,
     "metadata": {
      "tags": []
     },
     "output_type": "execute_result"
    }
   ],
   "source": [
    "jovian.commit(project='01-tensor-operations')"
   ]
  },
  {
   "cell_type": "markdown",
   "metadata": {
    "id": "gAbWvOjh7QR9"
   },
   "source": [
    "## unfold(dimension, size, step) → Tensor\n",
    "\n",
    "Returns a view of the original tensor which contains all slices of size size from self tensor in the dimension dimension.\n",
    "\n"
   ]
  },
  {
   "cell_type": "code",
   "execution_count": 56,
   "metadata": {
    "colab": {
     "base_uri": "https://localhost:8080/"
    },
    "executionInfo": {
     "elapsed": 817,
     "status": "ok",
     "timestamp": 1619757850140,
     "user": {
      "displayName": "arun",
      "photoUrl": "https://lh3.googleusercontent.com/a-/AOh14GiZjC1NqmLHLG04TOAX59OXmxfoAjcgOrpA34WVvw=s64",
      "userId": "12591767503691125936"
     },
     "user_tz": -330
    },
    "id": "z5NrCmXp7QR-",
    "outputId": "02e04e82-a654-4c1f-f339-f95cb2f885b6"
   },
   "outputs": [
    {
     "data": {
      "text/plain": [
       "tensor([[10., 11., 12.],\n",
       "        [14., 15., 16.],\n",
       "        [18., 19., 20.],\n",
       "        [22., 23., 24.],\n",
       "        [26., 27., 28.],\n",
       "        [30., 31., 32.],\n",
       "        [34., 35., 36.]])"
      ]
     },
     "execution_count": 56,
     "metadata": {
      "tags": []
     },
     "output_type": "execute_result"
    }
   ],
   "source": [
    "# Example 1 - working\n",
    "x = torch.arange(10., 39)\n",
    "\n",
    "x.unfold(0, 3, 4)"
   ]
  },
  {
   "cell_type": "markdown",
   "metadata": {
    "id": "ln-pyUWv7QR_"
   },
   "source": [
    "We've created an array from 10 to 38. Then we unfold it with number of items per array of 3. Between each array; the step is four, therefore the first item of each array will be the first item of the previous array plus 4."
   ]
  },
  {
   "cell_type": "code",
   "execution_count": 57,
   "metadata": {
    "colab": {
     "base_uri": "https://localhost:8080/"
    },
    "executionInfo": {
     "elapsed": 1399,
     "status": "ok",
     "timestamp": 1619757895344,
     "user": {
      "displayName": "arun",
      "photoUrl": "https://lh3.googleusercontent.com/a-/AOh14GiZjC1NqmLHLG04TOAX59OXmxfoAjcgOrpA34WVvw=s64",
      "userId": "12591767503691125936"
     },
     "user_tz": -330
    },
    "id": "Si2VODOO7QSE",
    "outputId": "5c1f1087-9aaa-4862-e21b-e067edf43bc7"
   },
   "outputs": [
    {
     "data": {
      "text/plain": [
       "tensor([[10., 11., 12., 13., 14., 15.],\n",
       "        [20., 21., 22., 23., 24., 25.],\n",
       "        [30., 31., 32., 33., 34., 35.]])"
      ]
     },
     "execution_count": 57,
     "metadata": {
      "tags": []
     },
     "output_type": "execute_result"
    }
   ],
   "source": [
    "# Example 2 - working\n",
    "\n",
    "x = torch.arange(10., 39)\n",
    "x.unfold(0, 6, 10)\n"
   ]
  },
  {
   "cell_type": "markdown",
   "metadata": {
    "id": "WZsxtbql7QSG"
   },
   "source": [
    " Each array has 6 items and the difference (step) between the first items of each array is 10"
   ]
  },
  {
   "cell_type": "code",
   "execution_count": 58,
   "metadata": {
    "colab": {
     "base_uri": "https://localhost:8080/",
     "height": 197
    },
    "executionInfo": {
     "elapsed": 960,
     "status": "error",
     "timestamp": 1619757898011,
     "user": {
      "displayName": "arun",
      "photoUrl": "https://lh3.googleusercontent.com/a-/AOh14GiZjC1NqmLHLG04TOAX59OXmxfoAjcgOrpA34WVvw=s64",
      "userId": "12591767503691125936"
     },
     "user_tz": -330
    },
    "id": "74j3iSRp7QSG",
    "outputId": "bb6e109f-1eb4-406c-c622-bf5fbdbb240a"
   },
   "outputs": [
    {
     "ename": "RuntimeError",
     "evalue": "ignored",
     "output_type": "error",
     "traceback": [
      "\u001b[0;31m---------------------------------------------------------------------------\u001b[0m",
      "\u001b[0;31mRuntimeError\u001b[0m                              Traceback (most recent call last)",
      "\u001b[0;32m<ipython-input-58-0b70e548657b>\u001b[0m in \u001b[0;36m<module>\u001b[0;34m()\u001b[0m\n\u001b[1;32m      4\u001b[0m                  \u001b[0;34m[\u001b[0m\u001b[0;36m6\u001b[0m\u001b[0;34m,\u001b[0m \u001b[0;36m7\u001b[0m\u001b[0;34m,\u001b[0m \u001b[0;36m8\u001b[0m\u001b[0;34m,\u001b[0m \u001b[0;36m9\u001b[0m\u001b[0;34m,\u001b[0m \u001b[0;36m10\u001b[0m\u001b[0;34m]\u001b[0m\u001b[0;34m,\u001b[0m\u001b[0;34m\u001b[0m\u001b[0;34m\u001b[0m\u001b[0m\n\u001b[1;32m      5\u001b[0m                  [11, 12, 13, 14, 15]])\n\u001b[0;32m----> 6\u001b[0;31m \u001b[0mx\u001b[0m\u001b[0;34m.\u001b[0m\u001b[0munfold\u001b[0m\u001b[0;34m(\u001b[0m\u001b[0;36m0\u001b[0m\u001b[0;34m,\u001b[0m \u001b[0;36m4\u001b[0m\u001b[0;34m,\u001b[0m \u001b[0;36m2\u001b[0m\u001b[0;34m)\u001b[0m\u001b[0;34m\u001b[0m\u001b[0;34m\u001b[0m\u001b[0m\n\u001b[0m",
      "\u001b[0;31mRuntimeError\u001b[0m: maximum size for tensor at dimension 0 is 3 but size is 4"
     ]
    }
   ],
   "source": [
    "# Example 3 - breaking (to illustrate when it breaks)\n",
    "\n",
    "x = torch.tensor([[1., 2, 3, 4, 5],\n",
    "                 [6, 7, 8, 9, 10],\n",
    "                 [11, 12, 13, 14, 15]])\n",
    "x.unfold(0, 4, 2)\n"
   ]
  },
  {
   "cell_type": "markdown",
   "metadata": {
    "id": "6P_qcmhB7QSH"
   },
   "source": [
    "The size is bigger than the number of arrays at the Tensor \"x\" (there are only 3 arrays in the tenso\n",
    "\n",
    "when to use this function Use this function to slice a Tensor controlling the size of the output."
   ]
  },
  {
   "cell_type": "code",
   "execution_count": 59,
   "metadata": {
    "colab": {
     "base_uri": "https://localhost:8080/",
     "height": 103
    },
    "executionInfo": {
     "elapsed": 4568,
     "status": "ok",
     "timestamp": 1619757911072,
     "user": {
      "displayName": "arun",
      "photoUrl": "https://lh3.googleusercontent.com/a-/AOh14GiZjC1NqmLHLG04TOAX59OXmxfoAjcgOrpA34WVvw=s64",
      "userId": "12591767503691125936"
     },
     "user_tz": -330
    },
    "id": "eTDTngQT7QSI",
    "outputId": "0ed90a95-f173-4d64-db53-dc8934092791"
   },
   "outputs": [
    {
     "name": "stdout",
     "output_type": "stream",
     "text": [
      "[jovian] Detected Colab notebook...\u001b[0m\n",
      "[jovian] Uploading colab notebook to Jovian...\u001b[0m\n",
      "[jovian] Capturing environment..\u001b[0m\n",
      "[jovian] Committed successfully! https://jovian.ai/arunkumar68330/01-tensor-operations\u001b[0m\n"
     ]
    },
    {
     "data": {
      "application/vnd.google.colaboratory.intrinsic+json": {
       "type": "string"
      },
      "text/plain": [
       "'https://jovian.ai/arunkumar68330/01-tensor-operations'"
      ]
     },
     "execution_count": 59,
     "metadata": {
      "tags": []
     },
     "output_type": "execute_result"
    }
   ],
   "source": [
    "jovian.commit(project='01-tensor-operations')"
   ]
  },
  {
   "cell_type": "markdown",
   "metadata": {
    "id": "UTgdVc2R7QSJ"
   },
   "source": [
    "## Function 3 - torch.transpose()\n",
    "\n",
    "Returns a tensor that is a transposed version of input. The given dimensions dim0 and dim1 are swapped.\n",
    "\n",
    "The resulting out tensor shares it’s underlying storage with the input tensor, so changing the content of one would change the content of the other.\n",
    "\n"
   ]
  },
  {
   "cell_type": "code",
   "execution_count": 60,
   "metadata": {
    "colab": {
     "base_uri": "https://localhost:8080/"
    },
    "executionInfo": {
     "elapsed": 1068,
     "status": "ok",
     "timestamp": 1619757913899,
     "user": {
      "displayName": "arun",
      "photoUrl": "https://lh3.googleusercontent.com/a-/AOh14GiZjC1NqmLHLG04TOAX59OXmxfoAjcgOrpA34WVvw=s64",
      "userId": "12591767503691125936"
     },
     "user_tz": -330
    },
    "id": "u_h11vaR7QSK",
    "outputId": "519c9af0-9fc6-4c95-e6bf-e30bf9b47dc1"
   },
   "outputs": [
    {
     "name": "stdout",
     "output_type": "stream",
     "text": [
      "x =  tensor([[-0.3341,  0.6199]])\n",
      " \n",
      " transpose =  tensor([[-0.3341],\n",
      "        [ 0.6199]])\n"
     ]
    }
   ],
   "source": [
    "# Example 1 - working\n",
    "\n",
    "x = torch.randn(1, 2)\n",
    "print(\"x = \" ,x)\n",
    "\n",
    "print(\" \\n transpose = \",torch.transpose(x, 0, 1))\n"
   ]
  },
  {
   "cell_type": "markdown",
   "metadata": {
    "id": "Ti9AZ4E87QSO"
   },
   "source": [
    "In the example above, with the help of the torch.transpose() function we are obtaining the transpose of a row vector, converting it into a column vector, dimensions 0 and 1 are interchanged.\n"
   ]
  },
  {
   "cell_type": "code",
   "execution_count": 61,
   "metadata": {
    "colab": {
     "base_uri": "https://localhost:8080/"
    },
    "executionInfo": {
     "elapsed": 583,
     "status": "ok",
     "timestamp": 1619757916156,
     "user": {
      "displayName": "arun",
      "photoUrl": "https://lh3.googleusercontent.com/a-/AOh14GiZjC1NqmLHLG04TOAX59OXmxfoAjcgOrpA34WVvw=s64",
      "userId": "12591767503691125936"
     },
     "user_tz": -330
    },
    "id": "BStYr9RR7QSO",
    "outputId": "6705e1f2-27df-42c5-df5c-078835969aa6"
   },
   "outputs": [
    {
     "name": "stdout",
     "output_type": "stream",
     "text": [
      "x =  tensor([[ 0.2615,  1.0808],\n",
      "        [ 0.4682, -0.3177]])\n",
      "y =  tensor([[ 0.2615,  0.4682],\n",
      "        [ 1.0808, -0.3177]])\n"
     ]
    }
   ],
   "source": [
    "# Example 2 - working\n",
    "x = torch.randn(2, 2)\n",
    "print(\"x = \" ,x)\n",
    "\n",
    "\n",
    "y = torch.transpose(x, 0, 1)\n",
    "print(\"y = \" ,y)\n",
    "\n"
   ]
  },
  {
   "cell_type": "markdown",
   "metadata": {
    "id": "iy03EWcj7QSP"
   },
   "source": [
    "In this example we obtain the transpose of a 2x2 matrix, exchanging the dimensions 0 and one. The rows become columns and the columns become rows.\n"
   ]
  },
  {
   "cell_type": "code",
   "execution_count": 62,
   "metadata": {
    "colab": {
     "base_uri": "https://localhost:8080/",
     "height": 197
    },
    "executionInfo": {
     "elapsed": 1145,
     "status": "error",
     "timestamp": 1619757918729,
     "user": {
      "displayName": "arun",
      "photoUrl": "https://lh3.googleusercontent.com/a-/AOh14GiZjC1NqmLHLG04TOAX59OXmxfoAjcgOrpA34WVvw=s64",
      "userId": "12591767503691125936"
     },
     "user_tz": -330
    },
    "id": "MWg0asqI7QSQ",
    "outputId": "8f98308f-55b6-4cca-bc14-323cdf3be03c"
   },
   "outputs": [
    {
     "ename": "IndexError",
     "evalue": "ignored",
     "output_type": "error",
     "traceback": [
      "\u001b[0;31m---------------------------------------------------------------------------\u001b[0m",
      "\u001b[0;31mIndexError\u001b[0m                                Traceback (most recent call last)",
      "\u001b[0;32m<ipython-input-62-b7c485a13ac2>\u001b[0m in \u001b[0;36m<module>\u001b[0;34m()\u001b[0m\n\u001b[1;32m      1\u001b[0m \u001b[0;31m# Example 3 - breaking\u001b[0m\u001b[0;34m\u001b[0m\u001b[0;34m\u001b[0m\u001b[0;34m\u001b[0m\u001b[0m\n\u001b[1;32m      2\u001b[0m \u001b[0;34m\u001b[0m\u001b[0m\n\u001b[0;32m----> 3\u001b[0;31m \u001b[0mtorch\u001b[0m\u001b[0;34m.\u001b[0m\u001b[0mtranspose\u001b[0m\u001b[0;34m(\u001b[0m\u001b[0mx\u001b[0m\u001b[0;34m,\u001b[0m \u001b[0;36m0\u001b[0m\u001b[0;34m,\u001b[0m \u001b[0;36m2\u001b[0m\u001b[0;34m)\u001b[0m\u001b[0;34m\u001b[0m\u001b[0;34m\u001b[0m\u001b[0m\n\u001b[0m",
      "\u001b[0;31mIndexError\u001b[0m: Dimension out of range (expected to be in range of [-2, 1], but got 2)"
     ]
    }
   ],
   "source": [
    "# Example 3 - breaking \n",
    "\n",
    "torch.transpose(x, 0, 2)\n"
   ]
  },
  {
   "cell_type": "markdown",
   "metadata": {
    "id": "MU1BVQVT7QST"
   },
   "source": [
    "The function fails if we don't work with the right dimensions.\n",
    "\n",
    "This function is very useful when we are dealing with common problems in the field of linear algebra."
   ]
  },
  {
   "cell_type": "code",
   "execution_count": 63,
   "metadata": {
    "colab": {
     "base_uri": "https://localhost:8080/",
     "height": 103
    },
    "executionInfo": {
     "elapsed": 3798,
     "status": "ok",
     "timestamp": 1619757923744,
     "user": {
      "displayName": "arun",
      "photoUrl": "https://lh3.googleusercontent.com/a-/AOh14GiZjC1NqmLHLG04TOAX59OXmxfoAjcgOrpA34WVvw=s64",
      "userId": "12591767503691125936"
     },
     "user_tz": -330
    },
    "id": "HHPa_C567QSW",
    "outputId": "52315491-2d9a-4198-b97d-4425fbf50a34"
   },
   "outputs": [
    {
     "name": "stdout",
     "output_type": "stream",
     "text": [
      "[jovian] Detected Colab notebook...\u001b[0m\n",
      "[jovian] Uploading colab notebook to Jovian...\u001b[0m\n",
      "[jovian] Capturing environment..\u001b[0m\n",
      "[jovian] Committed successfully! https://jovian.ai/arunkumar68330/01-tensor-operations\u001b[0m\n"
     ]
    },
    {
     "data": {
      "application/vnd.google.colaboratory.intrinsic+json": {
       "type": "string"
      },
      "text/plain": [
       "'https://jovian.ai/arunkumar68330/01-tensor-operations'"
      ]
     },
     "execution_count": 63,
     "metadata": {
      "tags": []
     },
     "output_type": "execute_result"
    }
   ],
   "source": [
    "jovian.commit(project='01-tensor-operations')"
   ]
  },
  {
   "cell_type": "markdown",
   "metadata": {
    "id": "6z9xQvaT7QSX"
   },
   "source": [
    "## Function 4 - torch.std_mean()\n",
    "\n",
    "Add some explanations Returns the standard-deviation and mean of all elements in the input tensor.\n",
    "\n"
   ]
  },
  {
   "cell_type": "code",
   "execution_count": 64,
   "metadata": {
    "colab": {
     "base_uri": "https://localhost:8080/"
    },
    "executionInfo": {
     "elapsed": 2896,
     "status": "ok",
     "timestamp": 1619757923748,
     "user": {
      "displayName": "arun",
      "photoUrl": "https://lh3.googleusercontent.com/a-/AOh14GiZjC1NqmLHLG04TOAX59OXmxfoAjcgOrpA34WVvw=s64",
      "userId": "12591767503691125936"
     },
     "user_tz": -330
    },
    "id": "_NqeMTkO7QSX",
    "outputId": "d4afa5d9-2231-4863-d9f6-e1b9ae835278"
   },
   "outputs": [
    {
     "data": {
      "text/plain": [
       "(tensor(0.9927), tensor(-0.0693))"
      ]
     },
     "execution_count": 64,
     "metadata": {
      "tags": []
     },
     "output_type": "execute_result"
    }
   ],
   "source": [
    "# Example 1 - working\n",
    "x = torch.randn(8,8,8) # Let's create a randon Tensor size (8,8,8)\n",
    "\n",
    "torch.std_mean(x)\n"
   ]
  },
  {
   "cell_type": "markdown",
   "metadata": {
    "id": "EQOFcLlA7QSY"
   },
   "source": [
    "Explanation about example Standard Deviaton and mean is displayed considering all elements of the tensor \"x\""
   ]
  },
  {
   "cell_type": "code",
   "execution_count": 65,
   "metadata": {
    "colab": {
     "base_uri": "https://localhost:8080/"
    },
    "executionInfo": {
     "elapsed": 1958,
     "status": "ok",
     "timestamp": 1619757923807,
     "user": {
      "displayName": "arun",
      "photoUrl": "https://lh3.googleusercontent.com/a-/AOh14GiZjC1NqmLHLG04TOAX59OXmxfoAjcgOrpA34WVvw=s64",
      "userId": "12591767503691125936"
     },
     "user_tz": -330
    },
    "id": "ASbHkjEo7QSf",
    "outputId": "cccb0345-1db2-4985-99b3-4960599976a4"
   },
   "outputs": [
    {
     "name": "stdout",
     "output_type": "stream",
     "text": [
      "x =  tensor([[ 0.1885,  0.5517],\n",
      "        [-1.1257,  0.1995]])\n",
      " std_mean =  (tensor(0.7390), tensor(-0.0465))\n"
     ]
    }
   ],
   "source": [
    "# Example 2 - working\n",
    "x = torch.randn(2,2)\n",
    "print(\"x = \",x)\n",
    "\n",
    "print(\" std_mean = \",torch.std_mean(x))\n"
   ]
  },
  {
   "cell_type": "markdown",
   "metadata": {
    "id": "8FsBALzz7QSg"
   },
   "source": [
    "Explanation about example Another Tensor with it's SD and Mean displayed."
   ]
  },
  {
   "cell_type": "code",
   "execution_count": 66,
   "metadata": {
    "colab": {
     "base_uri": "https://localhost:8080/",
     "height": 197
    },
    "executionInfo": {
     "elapsed": 1069,
     "status": "error",
     "timestamp": 1619757923815,
     "user": {
      "displayName": "arun",
      "photoUrl": "https://lh3.googleusercontent.com/a-/AOh14GiZjC1NqmLHLG04TOAX59OXmxfoAjcgOrpA34WVvw=s64",
      "userId": "12591767503691125936"
     },
     "user_tz": -330
    },
    "id": "0fQW5Utt7QSh",
    "outputId": "d775cc40-063a-4521-ad24-c48ba213ce67"
   },
   "outputs": [
    {
     "ename": "IndexError",
     "evalue": "ignored",
     "output_type": "error",
     "traceback": [
      "\u001b[0;31m---------------------------------------------------------------------------\u001b[0m",
      "\u001b[0;31mIndexError\u001b[0m                                Traceback (most recent call last)",
      "\u001b[0;32m<ipython-input-66-b8ce2c4603e8>\u001b[0m in \u001b[0;36m<module>\u001b[0;34m()\u001b[0m\n\u001b[1;32m      1\u001b[0m \u001b[0;31m# Example 3 - breaking (to illustrate when it breaks)\u001b[0m\u001b[0;34m\u001b[0m\u001b[0;34m\u001b[0m\u001b[0;34m\u001b[0m\u001b[0m\n\u001b[1;32m      2\u001b[0m \u001b[0mx\u001b[0m \u001b[0;34m=\u001b[0m \u001b[0mtorch\u001b[0m\u001b[0;34m.\u001b[0m\u001b[0mrandn\u001b[0m\u001b[0;34m(\u001b[0m\u001b[0;36m3\u001b[0m\u001b[0;34m,\u001b[0m \u001b[0;36m2\u001b[0m\u001b[0;34m)\u001b[0m\u001b[0;34m\u001b[0m\u001b[0;34m\u001b[0m\u001b[0m\n\u001b[0;32m----> 3\u001b[0;31m \u001b[0mtorch\u001b[0m\u001b[0;34m.\u001b[0m\u001b[0mstd_mean\u001b[0m\u001b[0;34m(\u001b[0m\u001b[0mx\u001b[0m\u001b[0;34m,\u001b[0m \u001b[0;36m2\u001b[0m\u001b[0;34m)\u001b[0m\u001b[0;34m\u001b[0m\u001b[0;34m\u001b[0m\u001b[0m\n\u001b[0m",
      "\u001b[0;31mIndexError\u001b[0m: Dimension out of range (expected to be in range of [-2, 1], but got 2)"
     ]
    }
   ],
   "source": [
    "# Example 3 - breaking (to illustrate when it breaks)\n",
    "x = torch.randn(3, 2)\n",
    "torch.std_mean(x, 2)\n"
   ]
  },
  {
   "cell_type": "markdown",
   "metadata": {
    "id": "omw9NhCt7QSh"
   },
   "source": [
    "Explanation about example The dimension of range is lower than requested. We could add a third dimension to the Tensor \"x\" and the errour should be gone. Otherwise, we could just keep in between the range established in the error message.\n",
    "\n",
    "Simple but powerful function to be able to know your Tensor while working."
   ]
  },
  {
   "cell_type": "code",
   "execution_count": 67,
   "metadata": {
    "colab": {
     "base_uri": "https://localhost:8080/",
     "height": 103
    },
    "executionInfo": {
     "elapsed": 4086,
     "status": "ok",
     "timestamp": 1619757927725,
     "user": {
      "displayName": "arun",
      "photoUrl": "https://lh3.googleusercontent.com/a-/AOh14GiZjC1NqmLHLG04TOAX59OXmxfoAjcgOrpA34WVvw=s64",
      "userId": "12591767503691125936"
     },
     "user_tz": -330
    },
    "id": "wgEGxuOr7QSk",
    "outputId": "3d277fbf-b23b-4990-df10-8b05dbc49d59"
   },
   "outputs": [
    {
     "name": "stdout",
     "output_type": "stream",
     "text": [
      "[jovian] Detected Colab notebook...\u001b[0m\n",
      "[jovian] Uploading colab notebook to Jovian...\u001b[0m\n",
      "[jovian] Capturing environment..\u001b[0m\n",
      "[jovian] Committed successfully! https://jovian.ai/arunkumar68330/01-tensor-operations\u001b[0m\n"
     ]
    },
    {
     "data": {
      "application/vnd.google.colaboratory.intrinsic+json": {
       "type": "string"
      },
      "text/plain": [
       "'https://jovian.ai/arunkumar68330/01-tensor-operations'"
      ]
     },
     "execution_count": 67,
     "metadata": {
      "tags": []
     },
     "output_type": "execute_result"
    }
   ],
   "source": [
    "jovian.commit(project='01-tensor-operations')"
   ]
  },
  {
   "cell_type": "markdown",
   "metadata": {
    "id": "bqahRHEM7QSl"
   },
   "source": [
    "## Function 5 - torch.inverse()\n",
    "\n",
    "Takes the inverse of the square matrix input. input can be batches of 2D square tensors, in which case this function would return a tensor composed of individual inverses."
   ]
  },
  {
   "cell_type": "code",
   "execution_count": 68,
   "metadata": {
    "colab": {
     "base_uri": "https://localhost:8080/"
    },
    "executionInfo": {
     "elapsed": 3225,
     "status": "ok",
     "timestamp": 1619757927735,
     "user": {
      "displayName": "arun",
      "photoUrl": "https://lh3.googleusercontent.com/a-/AOh14GiZjC1NqmLHLG04TOAX59OXmxfoAjcgOrpA34WVvw=s64",
      "userId": "12591767503691125936"
     },
     "user_tz": -330
    },
    "id": "o_ZXQk2l7QSo",
    "outputId": "cb8ad55d-f8e1-493b-deb6-e0499f94062c"
   },
   "outputs": [
    {
     "name": "stdout",
     "output_type": "stream",
     "text": [
      "x =  tensor([[0.9605, 0.5244],\n",
      "        [0.5575, 0.8476]])\n",
      "y =  tensor([[ 1.6244, -1.0049],\n",
      "        [-1.0684,  1.8407]])\n",
      "z =  tensor([[1.0000e+00, 0.0000e+00],\n",
      "        [5.9605e-08, 1.0000e+00]])\n"
     ]
    }
   ],
   "source": [
    "# Example 1 - working\n",
    "x = torch.rand(2, 2)\n",
    "print(\"x = \",x)\n",
    "\n",
    "\n",
    "y = torch.inverse(x)\n",
    "print(\"y = \",y)\n",
    "\n",
    "\n",
    "z = torch.mm(x, y)\n",
    "print(\"z = \",z)\n",
    "\n"
   ]
  },
  {
   "cell_type": "markdown",
   "metadata": {
    "id": "t7MMn9td7QSo"
   },
   "source": [
    "In the example above we calculate the inverse of a 2x2 matrix and check the result by multiplying the matrix by its inverse so that we obtain a diagonal matrix.\n"
   ]
  },
  {
   "cell_type": "code",
   "execution_count": 69,
   "metadata": {
    "colab": {
     "base_uri": "https://localhost:8080/"
    },
    "executionInfo": {
     "elapsed": 581,
     "status": "ok",
     "timestamp": 1619757929663,
     "user": {
      "displayName": "arun",
      "photoUrl": "https://lh3.googleusercontent.com/a-/AOh14GiZjC1NqmLHLG04TOAX59OXmxfoAjcgOrpA34WVvw=s64",
      "userId": "12591767503691125936"
     },
     "user_tz": -330
    },
    "id": "VDnG2VmH7QSp",
    "outputId": "ee43c467-1d88-4670-e977-464052bd82c0"
   },
   "outputs": [
    {
     "name": "stdout",
     "output_type": "stream",
     "text": [
      "x =  tensor([[0.8468, 0.1394, 0.8268],\n",
      "        [0.5885, 0.0223, 0.8642],\n",
      "        [0.8578, 0.1945, 0.7311]])\n",
      "y =  tensor([[ 23.9667,  -9.2954, -16.1176],\n",
      "        [-49.1042,  14.2289,  38.7150],\n",
      "        [-15.0560,   7.1207,   9.9785]])\n",
      "z =  tensor([[ 1.0000e+00, -3.4453e-07, -1.2693e-07],\n",
      "        [ 5.2019e-07,  1.0000e+00, -2.4647e-07],\n",
      "        [ 4.6261e-07,  3.3441e-07,  1.0000e+00]])\n"
     ]
    }
   ],
   "source": [
    "# Example 2 - working\n",
    "\n",
    "x = torch.rand(9).reshape(3,3)\n",
    "print(\"x = \",x)\n",
    "\n",
    "y = torch.inverse(x)\n",
    "print(\"y = \",y)\n",
    "\n",
    "z = torch.mm(x, y)\n",
    "print(\"z = \",z)\n",
    "\n"
   ]
  },
  {
   "cell_type": "markdown",
   "metadata": {
    "id": "giY9HaMC7QSq"
   },
   "source": [
    "Computation of a inverse of 3x3 matrix\n",
    "\n"
   ]
  },
  {
   "cell_type": "code",
   "execution_count": 70,
   "metadata": {
    "colab": {
     "base_uri": "https://localhost:8080/",
     "height": 265
    },
    "executionInfo": {
     "elapsed": 808,
     "status": "error",
     "timestamp": 1619757931839,
     "user": {
      "displayName": "arun",
      "photoUrl": "https://lh3.googleusercontent.com/a-/AOh14GiZjC1NqmLHLG04TOAX59OXmxfoAjcgOrpA34WVvw=s64",
      "userId": "12591767503691125936"
     },
     "user_tz": -330
    },
    "id": "EMK1VKU97QSr",
    "outputId": "f7f00930-30fd-4973-ac96-48e69da32fd1"
   },
   "outputs": [
    {
     "name": "stdout",
     "output_type": "stream",
     "text": [
      "x =  tensor([[0, 1, 2],\n",
      "        [3, 4, 5],\n",
      "        [6, 7, 8]])\n"
     ]
    },
    {
     "ename": "RuntimeError",
     "evalue": "ignored",
     "output_type": "error",
     "traceback": [
      "\u001b[0;31m---------------------------------------------------------------------------\u001b[0m",
      "\u001b[0;31mRuntimeError\u001b[0m                              Traceback (most recent call last)",
      "\u001b[0;32m<ipython-input-70-b4161260ec68>\u001b[0m in \u001b[0;36m<module>\u001b[0;34m()\u001b[0m\n\u001b[1;32m      3\u001b[0m \u001b[0mprint\u001b[0m\u001b[0;34m(\u001b[0m\u001b[0;34m\"x = \"\u001b[0m \u001b[0;34m,\u001b[0m\u001b[0mx\u001b[0m\u001b[0;34m)\u001b[0m\u001b[0;34m\u001b[0m\u001b[0;34m\u001b[0m\u001b[0m\n\u001b[1;32m      4\u001b[0m \u001b[0;34m\u001b[0m\u001b[0m\n\u001b[0;32m----> 5\u001b[0;31m \u001b[0my\u001b[0m \u001b[0;34m=\u001b[0m \u001b[0mtorch\u001b[0m\u001b[0;34m.\u001b[0m\u001b[0minverse\u001b[0m\u001b[0;34m(\u001b[0m\u001b[0mx\u001b[0m\u001b[0;34m)\u001b[0m\u001b[0;34m\u001b[0m\u001b[0;34m\u001b[0m\u001b[0m\n\u001b[0m\u001b[1;32m      6\u001b[0m \u001b[0mprint\u001b[0m\u001b[0;34m(\u001b[0m\u001b[0;34m\"y = \"\u001b[0m \u001b[0;34m,\u001b[0m\u001b[0my\u001b[0m\u001b[0;34m)\u001b[0m\u001b[0;34m\u001b[0m\u001b[0;34m\u001b[0m\u001b[0m\n",
      "\u001b[0;31mRuntimeError\u001b[0m: \"inverse_cpu\" not implemented for 'Long'"
     ]
    }
   ],
   "source": [
    "# Example 3 - breaking (to illustrate when it breaks)\n",
    "x = torch.arange(9).reshape(3,3)\n",
    "print(\"x = \" ,x)\n",
    "\n",
    "y = torch.inverse(x)\n",
    "print(\"y = \" ,y)\n"
   ]
  },
  {
   "cell_type": "markdown",
   "metadata": {
    "id": "sFYzbK-S7QSs"
   },
   "source": [
    "The computation of inverse matrix fails if the matrix is ​​singular, as in this example, there is a correlation between the rows of the matrix.\n",
    "\n"
   ]
  },
  {
   "cell_type": "markdown",
   "metadata": {
    "id": "iPTiaWEP7QSs"
   },
   "source": [
    "\n",
    "The computation of the inverse of a matrix is ​​essential if we are dealing with topics that involve linear algebra."
   ]
  },
  {
   "cell_type": "code",
   "execution_count": 45,
   "metadata": {
    "colab": {
     "base_uri": "https://localhost:8080/",
     "height": 103
    },
    "executionInfo": {
     "elapsed": 4105,
     "status": "ok",
     "timestamp": 1619757553630,
     "user": {
      "displayName": "arun",
      "photoUrl": "https://lh3.googleusercontent.com/a-/AOh14GiZjC1NqmLHLG04TOAX59OXmxfoAjcgOrpA34WVvw=s64",
      "userId": "12591767503691125936"
     },
     "user_tz": -330
    },
    "id": "zzY_HgjJ7QSt",
    "outputId": "57bedec1-a607-49ce-ddd2-d6da13353a91"
   },
   "outputs": [
    {
     "name": "stdout",
     "output_type": "stream",
     "text": [
      "[jovian] Detected Colab notebook...\u001b[0m\n",
      "[jovian] Uploading colab notebook to Jovian...\u001b[0m\n",
      "[jovian] Capturing environment..\u001b[0m\n",
      "[jovian] Committed successfully! https://jovian.ai/arunkumar68330/01-tensor-operations\u001b[0m\n"
     ]
    },
    {
     "data": {
      "application/vnd.google.colaboratory.intrinsic+json": {
       "type": "string"
      },
      "text/plain": [
       "'https://jovian.ai/arunkumar68330/01-tensor-operations'"
      ]
     },
     "execution_count": 45,
     "metadata": {
      "tags": []
     },
     "output_type": "execute_result"
    }
   ],
   "source": [
    "jovian.commit(project='01-tensor-operations')"
   ]
  },
  {
   "cell_type": "markdown",
   "metadata": {
    "id": "xQaEO81h7QSu"
   },
   "source": [
    "In this short notebook we have described some simple but at the same time useful pytorch functions, especially when working on topics involving linear algebra."
   ]
  },
  {
   "cell_type": "markdown",
   "metadata": {
    "id": "KU4GvcNS7QSu"
   },
   "source": [
    "## Reference Links\n",
    "Provide links to your references and other interesting articles about tensors\n",
    "* Official documentation for tensor operations: https://pytorch.org/docs/stable/torch.html\n",
    "* ..."
   ]
  },
  {
   "cell_type": "code",
   "execution_count": 47,
   "metadata": {
    "colab": {
     "base_uri": "https://localhost:8080/",
     "height": 103
    },
    "executionInfo": {
     "elapsed": 4395,
     "status": "ok",
     "timestamp": 1619757613169,
     "user": {
      "displayName": "arun",
      "photoUrl": "https://lh3.googleusercontent.com/a-/AOh14GiZjC1NqmLHLG04TOAX59OXmxfoAjcgOrpA34WVvw=s64",
      "userId": "12591767503691125936"
     },
     "user_tz": -330
    },
    "id": "RxXPwG-37QSv",
    "outputId": "d485bd07-b2f6-4a73-bf28-8d7e1cb6f1bc"
   },
   "outputs": [
    {
     "name": "stdout",
     "output_type": "stream",
     "text": [
      "[jovian] Detected Colab notebook...\u001b[0m\n",
      "[jovian] Uploading colab notebook to Jovian...\u001b[0m\n",
      "[jovian] Capturing environment..\u001b[0m\n",
      "[jovian] Committed successfully! https://jovian.ai/arunkumar68330/01-tensor-operations\u001b[0m\n"
     ]
    },
    {
     "data": {
      "application/vnd.google.colaboratory.intrinsic+json": {
       "type": "string"
      },
      "text/plain": [
       "'https://jovian.ai/arunkumar68330/01-tensor-operations'"
      ]
     },
     "execution_count": 47,
     "metadata": {
      "tags": []
     },
     "output_type": "execute_result"
    }
   ],
   "source": [
    "jovian.commit(project='01-tensor-operations')"
   ]
  },
  {
   "cell_type": "code",
   "execution_count": 46,
   "metadata": {
    "executionInfo": {
     "elapsed": 1085,
     "status": "ok",
     "timestamp": 1619757597424,
     "user": {
      "displayName": "arun",
      "photoUrl": "https://lh3.googleusercontent.com/a-/AOh14GiZjC1NqmLHLG04TOAX59OXmxfoAjcgOrpA34WVvw=s64",
      "userId": "12591767503691125936"
     },
     "user_tz": -330
    },
    "id": "ZTrV6J9T7QSw"
   },
   "outputs": [],
   "source": []
  }
 ],
 "metadata": {
  "colab": {
   "collapsed_sections": [],
   "name": "01-Simple_and_useful_Pytorch_functions.ipynb",
   "provenance": []
  },
  "language_info": {
   "codemirror_mode": {
    "name": "ipython",
    "version": 3
   },
   "file_extension": ".py",
   "mimetype": "text/x-python",
   "name": "python",
   "nbconvert_exporter": "python",
   "pygments_lexer": "ipython3",
   "version": "3.8.5"
  }
 },
 "nbformat": 4,
 "nbformat_minor": 0
}