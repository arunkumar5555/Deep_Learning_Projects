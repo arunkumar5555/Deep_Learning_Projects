{
 "cells": [
  {
   "cell_type": "markdown",
   "metadata": {
    "_cell_guid": "b1076dfc-b9ad-4769-8c92-a6c4dae69d19",
    "_uuid": "8f2839f25d086af736a60e9eeb907d3b93b6e0e5",
    "id": "AO3WllE6XT3r"
   },
   "source": [
    "# Insurance cost prediction using linear regression\n",
    "\n",
    "Make a submisson here: https://jovian.ai/learn/deep-learning-with-pytorch-zero-to-gans/assignment/assignment-2-train-your-first-model\n",
    "\n",
    "In this assignment we're going to use information like a person's age, sex, BMI, no. of children and smoking habit to predict the price of yearly medical bills. This kind of model is useful for insurance companies to determine the yearly insurance premium for a person. The dataset for this problem is taken from [Kaggle](https://www.kaggle.com/mirichoi0218/insurance).\n",
    "\n",
    "\n",
    "We will create a model with the following steps:\n",
    "1. Download and explore the dataset\n",
    "2. Prepare the dataset for training\n",
    "3. Create a linear regression model\n",
    "4. Train the model to fit the data\n",
    "5. Make predictions using the trained model\n",
    "\n",
    "\n",
    "This assignment builds upon the concepts from the first 2 lessons. It will help to review these Jupyter notebooks:\n",
    "- PyTorch basics: https://jovian.ai/aakashns/01-pytorch-basics\n",
    "- Linear Regression: https://jovian.ai/aakashns/02-linear-regression\n",
    "- Logistic Regression: https://jovian.ai/aakashns/03-logistic-regression\n",
    "- Linear regression (minimal): https://jovian.ai/aakashns/housing-linear-minimal\n",
    "- Logistic regression (minimal): https://jovian.ai/aakashns/mnist-logistic-minimal\n",
    "\n",
    "As you go through this notebook, you will find a **???** in certain places. Your job is to replace the **???** with appropriate code or values, to ensure that the notebook runs properly end-to-end . In some cases, you'll be required to choose some hyperparameters (learning rate, batch size etc.). Try to experiment with the hypeparameters to get the lowest loss.\n"
   ]
  },
  {
   "cell_type": "code",
   "execution_count": 2,
   "metadata": {
    "executionInfo": {
     "elapsed": 1174,
     "status": "ok",
     "timestamp": 1619779281970,
     "user": {
      "displayName": "arun",
      "photoUrl": "https://lh3.googleusercontent.com/a-/AOh14GiZjC1NqmLHLG04TOAX59OXmxfoAjcgOrpA34WVvw=s64",
      "userId": "12591767503691125936"
     },
     "user_tz": -330
    },
    "id": "w0JXoOHDXT3t"
   },
   "outputs": [],
   "source": [
    "# Uncomment and run the appropriate command for your operating system, if required\n",
    "\n",
    "# Linux / Binder\n",
    "# !pip install numpy matplotlib pandas torch==1.7.0+cpu torchvision==0.8.1+cpu torchaudio==0.7.0 -f https://download.pytorch.org/whl/torch_stable.html\n",
    "\n",
    "# Windows\n",
    "# !pip install numpy matplotlib pandas torch==1.7.0+cpu torchvision==0.8.1+cpu torchaudio==0.7.0 -f https://download.pytorch.org/whl/torch_stable.html\n",
    "\n",
    "# MacOS\n",
    "# !pip install numpy matplotlib pandas torch torchvision torchaudio"
   ]
  },
  {
   "cell_type": "code",
   "execution_count": 3,
   "metadata": {
    "executionInfo": {
     "elapsed": 4338,
     "status": "ok",
     "timestamp": 1619779286788,
     "user": {
      "displayName": "arun",
      "photoUrl": "https://lh3.googleusercontent.com/a-/AOh14GiZjC1NqmLHLG04TOAX59OXmxfoAjcgOrpA34WVvw=s64",
      "userId": "12591767503691125936"
     },
     "user_tz": -330
    },
    "id": "vLmXwWhxXT3u"
   },
   "outputs": [],
   "source": [
    "import torch\n",
    "import jovian\n",
    "import torchvision\n",
    "import torch.nn as nn\n",
    "import pandas as pd\n",
    "import matplotlib.pyplot as plt\n",
    "import torch.nn.functional as F\n",
    "from torchvision.datasets.utils import download_url\n",
    "from torch.utils.data import DataLoader, TensorDataset, random_split"
   ]
  },
  {
   "cell_type": "code",
   "execution_count": 4,
   "metadata": {
    "executionInfo": {
     "elapsed": 748,
     "status": "ok",
     "timestamp": 1619779289004,
     "user": {
      "displayName": "arun",
      "photoUrl": "https://lh3.googleusercontent.com/a-/AOh14GiZjC1NqmLHLG04TOAX59OXmxfoAjcgOrpA34WVvw=s64",
      "userId": "12591767503691125936"
     },
     "user_tz": -330
    },
    "id": "FT1Xw6mrXT3w"
   },
   "outputs": [],
   "source": [
    "project_name='02-insurance-linear-regression' # will be used by jovian.commit"
   ]
  },
  {
   "cell_type": "markdown",
   "metadata": {
    "id": "vXng4WVwXT3w"
   },
   "source": [
    "## Step 1: Download and explore the data\n",
    "\n",
    "Let us begin by downloading the data. We'll use the `download_url` function from PyTorch to get the data as a CSV (comma-separated values) file. "
   ]
  },
  {
   "cell_type": "code",
   "execution_count": 5,
   "metadata": {
    "_cell_guid": "79c7e3d0-c299-4dcb-8224-4455121ee9b0",
    "_uuid": "d629ff2d2480ee46fbb7e2d37f6b5fab8052498a",
    "colab": {
     "base_uri": "https://localhost:8080/",
     "height": 83,
     "referenced_widgets": [
      "bb3f6d4ee0df42d1935f9b212bc0c293",
      "49db935f235f4647b7c6b22d4a4a6e1c",
      "fffcc66a8630489f8c11df111b08da7e",
      "a22905a6ec494dd7a8153a1ccebfcf3a",
      "b91fdeeb9c9a475ab4e88b727246658a",
      "1b0434bc4d9e4852984efaa6a430fe2b",
      "7e387e847706454e98a098632f602967",
      "756541055a654245a189729fcb1d3b2c"
     ]
    },
    "executionInfo": {
     "elapsed": 3358,
     "status": "ok",
     "timestamp": 1619779300013,
     "user": {
      "displayName": "arun",
      "photoUrl": "https://lh3.googleusercontent.com/a-/AOh14GiZjC1NqmLHLG04TOAX59OXmxfoAjcgOrpA34WVvw=s64",
      "userId": "12591767503691125936"
     },
     "user_tz": -330
    },
    "id": "lKbngaMVXT3y",
    "outputId": "273cbec1-5ed0-4e51-c88c-c1ff889714a0"
   },
   "outputs": [
    {
     "name": "stdout",
     "output_type": "stream",
     "text": [
      "Downloading https://hub.jovian.ml/wp-content/uploads/2020/05/insurance.csv to ./insurance.csv\n"
     ]
    },
    {
     "data": {
      "application/vnd.jupyter.widget-view+json": {
       "model_id": "bb3f6d4ee0df42d1935f9b212bc0c293",
       "version_major": 2,
       "version_minor": 0
      },
      "text/plain": [
       "HBox(children=(FloatProgress(value=0.0, max=55628.0), HTML(value='')))"
      ]
     },
     "metadata": {
      "tags": []
     },
     "output_type": "display_data"
    },
    {
     "name": "stdout",
     "output_type": "stream",
     "text": [
      "\n"
     ]
    }
   ],
   "source": [
    "DATASET_URL = \"https://hub.jovian.ml/wp-content/uploads/2020/05/insurance.csv\"\n",
    "DATA_FILENAME = \"insurance.csv\"\n",
    "download_url(DATASET_URL, '.')"
   ]
  },
  {
   "cell_type": "markdown",
   "metadata": {
    "id": "NANVlVZhXT31"
   },
   "source": [
    "To load the dataset into memory, we'll use the `read_csv` function from the `pandas` library. The data will be loaded as a Pandas dataframe. See this short tutorial to learn more: https://data36.com/pandas-tutorial-1-basics-reading-data-files-dataframes-data-selection/"
   ]
  },
  {
   "cell_type": "code",
   "execution_count": 6,
   "metadata": {
    "colab": {
     "base_uri": "https://localhost:8080/",
     "height": 204
    },
    "executionInfo": {
     "elapsed": 909,
     "status": "ok",
     "timestamp": 1619779305058,
     "user": {
      "displayName": "arun",
      "photoUrl": "https://lh3.googleusercontent.com/a-/AOh14GiZjC1NqmLHLG04TOAX59OXmxfoAjcgOrpA34WVvw=s64",
      "userId": "12591767503691125936"
     },
     "user_tz": -330
    },
    "id": "zAAa_hkAXT32",
    "outputId": "6737229d-2751-4345-e423-ffca4994fc89"
   },
   "outputs": [
    {
     "data": {
      "text/html": [
       "<div>\n",
       "<style scoped>\n",
       "    .dataframe tbody tr th:only-of-type {\n",
       "        vertical-align: middle;\n",
       "    }\n",
       "\n",
       "    .dataframe tbody tr th {\n",
       "        vertical-align: top;\n",
       "    }\n",
       "\n",
       "    .dataframe thead th {\n",
       "        text-align: right;\n",
       "    }\n",
       "</style>\n",
       "<table border=\"1\" class=\"dataframe\">\n",
       "  <thead>\n",
       "    <tr style=\"text-align: right;\">\n",
       "      <th></th>\n",
       "      <th>age</th>\n",
       "      <th>sex</th>\n",
       "      <th>bmi</th>\n",
       "      <th>children</th>\n",
       "      <th>smoker</th>\n",
       "      <th>region</th>\n",
       "      <th>charges</th>\n",
       "    </tr>\n",
       "  </thead>\n",
       "  <tbody>\n",
       "    <tr>\n",
       "      <th>0</th>\n",
       "      <td>19</td>\n",
       "      <td>female</td>\n",
       "      <td>27.900</td>\n",
       "      <td>0</td>\n",
       "      <td>yes</td>\n",
       "      <td>southwest</td>\n",
       "      <td>16884.92400</td>\n",
       "    </tr>\n",
       "    <tr>\n",
       "      <th>1</th>\n",
       "      <td>18</td>\n",
       "      <td>male</td>\n",
       "      <td>33.770</td>\n",
       "      <td>1</td>\n",
       "      <td>no</td>\n",
       "      <td>southeast</td>\n",
       "      <td>1725.55230</td>\n",
       "    </tr>\n",
       "    <tr>\n",
       "      <th>2</th>\n",
       "      <td>28</td>\n",
       "      <td>male</td>\n",
       "      <td>33.000</td>\n",
       "      <td>3</td>\n",
       "      <td>no</td>\n",
       "      <td>southeast</td>\n",
       "      <td>4449.46200</td>\n",
       "    </tr>\n",
       "    <tr>\n",
       "      <th>3</th>\n",
       "      <td>33</td>\n",
       "      <td>male</td>\n",
       "      <td>22.705</td>\n",
       "      <td>0</td>\n",
       "      <td>no</td>\n",
       "      <td>northwest</td>\n",
       "      <td>21984.47061</td>\n",
       "    </tr>\n",
       "    <tr>\n",
       "      <th>4</th>\n",
       "      <td>32</td>\n",
       "      <td>male</td>\n",
       "      <td>28.880</td>\n",
       "      <td>0</td>\n",
       "      <td>no</td>\n",
       "      <td>northwest</td>\n",
       "      <td>3866.85520</td>\n",
       "    </tr>\n",
       "  </tbody>\n",
       "</table>\n",
       "</div>"
      ],
      "text/plain": [
       "   age     sex     bmi  children smoker     region      charges\n",
       "0   19  female  27.900         0    yes  southwest  16884.92400\n",
       "1   18    male  33.770         1     no  southeast   1725.55230\n",
       "2   28    male  33.000         3     no  southeast   4449.46200\n",
       "3   33    male  22.705         0     no  northwest  21984.47061\n",
       "4   32    male  28.880         0     no  northwest   3866.85520"
      ]
     },
     "execution_count": 6,
     "metadata": {
      "tags": []
     },
     "output_type": "execute_result"
    }
   ],
   "source": [
    "dataframe_raw = pd.read_csv(DATA_FILENAME)\n",
    "dataframe_raw.head()"
   ]
  },
  {
   "cell_type": "markdown",
   "metadata": {
    "id": "vWFf_SIGXT34"
   },
   "source": [
    "We're going to do a slight customization of the data, so that you every participant receives a slightly different version of the dataset. Fill in your name below as a string (enter at least 5 characters)"
   ]
  },
  {
   "cell_type": "code",
   "execution_count": 8,
   "metadata": {
    "executionInfo": {
     "elapsed": 1735,
     "status": "ok",
     "timestamp": 1619779321001,
     "user": {
      "displayName": "arun",
      "photoUrl": "https://lh3.googleusercontent.com/a-/AOh14GiZjC1NqmLHLG04TOAX59OXmxfoAjcgOrpA34WVvw=s64",
      "userId": "12591767503691125936"
     },
     "user_tz": -330
    },
    "id": "S46fRApxXT35"
   },
   "outputs": [],
   "source": [
    "your_name = \"Arunkumar A\" # at least 5 characters"
   ]
  },
  {
   "cell_type": "markdown",
   "metadata": {
    "id": "tuFIFV4FXT36"
   },
   "source": [
    "The `customize_dataset` function will customize the dataset slightly using your name as a source of random numbers."
   ]
  },
  {
   "cell_type": "code",
   "execution_count": 9,
   "metadata": {
    "executionInfo": {
     "elapsed": 1081,
     "status": "ok",
     "timestamp": 1619779324680,
     "user": {
      "displayName": "arun",
      "photoUrl": "https://lh3.googleusercontent.com/a-/AOh14GiZjC1NqmLHLG04TOAX59OXmxfoAjcgOrpA34WVvw=s64",
      "userId": "12591767503691125936"
     },
     "user_tz": -330
    },
    "id": "Ed3eXukCXT37"
   },
   "outputs": [],
   "source": [
    "def customize_dataset(dataframe_raw, rand_str):\n",
    "    dataframe = dataframe_raw.copy(deep=True)\n",
    "    # drop some rows\n",
    "    dataframe = dataframe.sample(int(0.95*len(dataframe)), random_state=int(ord(rand_str[0])))\n",
    "    # scale input\n",
    "    dataframe.bmi = dataframe.bmi * ord(rand_str[1])/100.\n",
    "    # scale target\n",
    "    dataframe.charges = dataframe.charges * ord(rand_str[2])/100.\n",
    "    # drop column\n",
    "    if ord(rand_str[3]) % 2 == 1:\n",
    "        dataframe = dataframe.drop(['region'], axis=1)\n",
    "    return dataframe"
   ]
  },
  {
   "cell_type": "code",
   "execution_count": 10,
   "metadata": {
    "colab": {
     "base_uri": "https://localhost:8080/",
     "height": 204
    },
    "executionInfo": {
     "elapsed": 1323,
     "status": "ok",
     "timestamp": 1619779326781,
     "user": {
      "displayName": "arun",
      "photoUrl": "https://lh3.googleusercontent.com/a-/AOh14GiZjC1NqmLHLG04TOAX59OXmxfoAjcgOrpA34WVvw=s64",
      "userId": "12591767503691125936"
     },
     "user_tz": -330
    },
    "id": "k2COfP-cXT39",
    "outputId": "d2fb2b8b-5e5f-4eca-aab5-ddd127d63fa2"
   },
   "outputs": [
    {
     "data": {
      "text/html": [
       "<div>\n",
       "<style scoped>\n",
       "    .dataframe tbody tr th:only-of-type {\n",
       "        vertical-align: middle;\n",
       "    }\n",
       "\n",
       "    .dataframe tbody tr th {\n",
       "        vertical-align: top;\n",
       "    }\n",
       "\n",
       "    .dataframe thead th {\n",
       "        text-align: right;\n",
       "    }\n",
       "</style>\n",
       "<table border=\"1\" class=\"dataframe\">\n",
       "  <thead>\n",
       "    <tr style=\"text-align: right;\">\n",
       "      <th></th>\n",
       "      <th>age</th>\n",
       "      <th>sex</th>\n",
       "      <th>bmi</th>\n",
       "      <th>children</th>\n",
       "      <th>smoker</th>\n",
       "      <th>region</th>\n",
       "      <th>charges</th>\n",
       "    </tr>\n",
       "  </thead>\n",
       "  <tbody>\n",
       "    <tr>\n",
       "      <th>27</th>\n",
       "      <td>55</td>\n",
       "      <td>female</td>\n",
       "      <td>37.3635</td>\n",
       "      <td>2</td>\n",
       "      <td>no</td>\n",
       "      <td>northwest</td>\n",
       "      <td>14354.299732</td>\n",
       "    </tr>\n",
       "    <tr>\n",
       "      <th>752</th>\n",
       "      <td>64</td>\n",
       "      <td>male</td>\n",
       "      <td>43.2117</td>\n",
       "      <td>0</td>\n",
       "      <td>no</td>\n",
       "      <td>northwest</td>\n",
       "      <td>16626.327062</td>\n",
       "    </tr>\n",
       "    <tr>\n",
       "      <th>1258</th>\n",
       "      <td>55</td>\n",
       "      <td>male</td>\n",
       "      <td>42.9951</td>\n",
       "      <td>3</td>\n",
       "      <td>no</td>\n",
       "      <td>northwest</td>\n",
       "      <td>35174.389244</td>\n",
       "    </tr>\n",
       "    <tr>\n",
       "      <th>384</th>\n",
       "      <td>44</td>\n",
       "      <td>male</td>\n",
       "      <td>25.2339</td>\n",
       "      <td>2</td>\n",
       "      <td>no</td>\n",
       "      <td>northeast</td>\n",
       "      <td>9713.966711</td>\n",
       "    </tr>\n",
       "    <tr>\n",
       "      <th>406</th>\n",
       "      <td>33</td>\n",
       "      <td>female</td>\n",
       "      <td>27.7134</td>\n",
       "      <td>0</td>\n",
       "      <td>no</td>\n",
       "      <td>southeast</td>\n",
       "      <td>4896.564543</td>\n",
       "    </tr>\n",
       "  </tbody>\n",
       "</table>\n",
       "</div>"
      ],
      "text/plain": [
       "      age     sex      bmi  children smoker     region       charges\n",
       "27     55  female  37.3635         2     no  northwest  14354.299732\n",
       "752    64    male  43.2117         0     no  northwest  16626.327062\n",
       "1258   55    male  42.9951         3     no  northwest  35174.389244\n",
       "384    44    male  25.2339         2     no  northeast   9713.966711\n",
       "406    33  female  27.7134         0     no  southeast   4896.564543"
      ]
     },
     "execution_count": 10,
     "metadata": {
      "tags": []
     },
     "output_type": "execute_result"
    }
   ],
   "source": [
    "dataframe = customize_dataset(dataframe_raw, your_name)\n",
    "dataframe.head()"
   ]
  },
  {
   "cell_type": "markdown",
   "metadata": {
    "id": "cxChbnHSXT3-"
   },
   "source": [
    "Let us answer some basic questions about the dataset. \n",
    "\n",
    "\n",
    "**Q: How many rows does the dataset have?**"
   ]
  },
  {
   "cell_type": "code",
   "execution_count": 12,
   "metadata": {
    "colab": {
     "base_uri": "https://localhost:8080/"
    },
    "executionInfo": {
     "elapsed": 1148,
     "status": "ok",
     "timestamp": 1619779391947,
     "user": {
      "displayName": "arun",
      "photoUrl": "https://lh3.googleusercontent.com/a-/AOh14GiZjC1NqmLHLG04TOAX59OXmxfoAjcgOrpA34WVvw=s64",
      "userId": "12591767503691125936"
     },
     "user_tz": -330
    },
    "id": "zhPE_tHWXT3_",
    "outputId": "470b8e98-e070-489d-ec7d-e20e1980efa2"
   },
   "outputs": [
    {
     "name": "stdout",
     "output_type": "stream",
     "text": [
      "1271\n"
     ]
    }
   ],
   "source": [
    "num_rows = dataframe.shape[0]\n",
    "print(num_rows)"
   ]
  },
  {
   "cell_type": "markdown",
   "metadata": {
    "id": "4sY4xGSuXT4A"
   },
   "source": [
    "**Q: How many columns doe the dataset have**"
   ]
  },
  {
   "cell_type": "code",
   "execution_count": 13,
   "metadata": {
    "colab": {
     "base_uri": "https://localhost:8080/"
    },
    "executionInfo": {
     "elapsed": 1010,
     "status": "ok",
     "timestamp": 1619779401906,
     "user": {
      "displayName": "arun",
      "photoUrl": "https://lh3.googleusercontent.com/a-/AOh14GiZjC1NqmLHLG04TOAX59OXmxfoAjcgOrpA34WVvw=s64",
      "userId": "12591767503691125936"
     },
     "user_tz": -330
    },
    "id": "gGfZem8gXT4B",
    "outputId": "715648b3-5ecb-4049-ce73-991753e24ad5"
   },
   "outputs": [
    {
     "name": "stdout",
     "output_type": "stream",
     "text": [
      "7\n"
     ]
    }
   ],
   "source": [
    "num_cols = dataframe.shape[1]\n",
    "print(num_cols)"
   ]
  },
  {
   "cell_type": "markdown",
   "metadata": {
    "id": "6LP41ILsXT4E"
   },
   "source": [
    "**Q: What are the column titles of the input variables?**"
   ]
  },
  {
   "cell_type": "code",
   "execution_count": 14,
   "metadata": {
    "colab": {
     "base_uri": "https://localhost:8080/"
    },
    "executionInfo": {
     "elapsed": 1290,
     "status": "ok",
     "timestamp": 1619779427571,
     "user": {
      "displayName": "arun",
      "photoUrl": "https://lh3.googleusercontent.com/a-/AOh14GiZjC1NqmLHLG04TOAX59OXmxfoAjcgOrpA34WVvw=s64",
      "userId": "12591767503691125936"
     },
     "user_tz": -330
    },
    "id": "d-zD0hf1XT4E",
    "outputId": "7d41f265-e725-4f68-e325-90e338afb456"
   },
   "outputs": [
    {
     "data": {
      "text/plain": [
       "['age', 'sex', 'bmi', 'children', 'smoker']"
      ]
     },
     "execution_count": 14,
     "metadata": {
      "tags": []
     },
     "output_type": "execute_result"
    }
   ],
   "source": [
    "input_cols =  ['age', 'sex', 'bmi', 'children', 'smoker']\n",
    "input_cols"
   ]
  },
  {
   "cell_type": "markdown",
   "metadata": {
    "id": "QbbHkJNTXT4F"
   },
   "source": [
    "**Q: Which of the input columns are non-numeric or categorial variables ?**\n",
    "\n",
    "Hint: `sex` is one of them. List the columns that are not numbers."
   ]
  },
  {
   "cell_type": "code",
   "execution_count": 15,
   "metadata": {
    "colab": {
     "base_uri": "https://localhost:8080/"
    },
    "executionInfo": {
     "elapsed": 1301,
     "status": "ok",
     "timestamp": 1619779445231,
     "user": {
      "displayName": "arun",
      "photoUrl": "https://lh3.googleusercontent.com/a-/AOh14GiZjC1NqmLHLG04TOAX59OXmxfoAjcgOrpA34WVvw=s64",
      "userId": "12591767503691125936"
     },
     "user_tz": -330
    },
    "id": "wZMGtupCXT4G",
    "outputId": "bfa53878-3f5c-448b-d23b-becd24b89ffb"
   },
   "outputs": [
    {
     "data": {
      "text/plain": [
       "['sex', 'smoker']"
      ]
     },
     "execution_count": 15,
     "metadata": {
      "tags": []
     },
     "output_type": "execute_result"
    }
   ],
   "source": [
    "categorical_cols = [\"sex\", \"smoker\"]\n",
    "categorical_cols"
   ]
  },
  {
   "cell_type": "markdown",
   "metadata": {
    "id": "Cln63jRqXT4G"
   },
   "source": [
    "**Q: What are the column titles of output/target variable(s)?**"
   ]
  },
  {
   "cell_type": "code",
   "execution_count": 16,
   "metadata": {
    "colab": {
     "base_uri": "https://localhost:8080/"
    },
    "executionInfo": {
     "elapsed": 1022,
     "status": "ok",
     "timestamp": 1619779460615,
     "user": {
      "displayName": "arun",
      "photoUrl": "https://lh3.googleusercontent.com/a-/AOh14GiZjC1NqmLHLG04TOAX59OXmxfoAjcgOrpA34WVvw=s64",
      "userId": "12591767503691125936"
     },
     "user_tz": -330
    },
    "id": "RWtrRn9rXT4H",
    "outputId": "31cdfe67-a7bd-48e5-d7c4-a1cf73d5c5dd"
   },
   "outputs": [
    {
     "data": {
      "text/plain": [
       "['charges']"
      ]
     },
     "execution_count": 16,
     "metadata": {
      "tags": []
     },
     "output_type": "execute_result"
    }
   ],
   "source": [
    "output_cols = [\"charges\"]\n",
    "output_cols"
   ]
  },
  {
   "cell_type": "markdown",
   "metadata": {
    "id": "9l0O0_S0XT4I"
   },
   "source": [
    "**Q: (Optional) What is the minimum, maximum and average value of the `charges` column? Can you show the distribution of values in a graph?**\n",
    "Use this data visualization cheatsheet for referece: https://jovian.ml/aakashns/dataviz-cheatsheet"
   ]
  },
  {
   "cell_type": "code",
   "execution_count": 17,
   "metadata": {
    "colab": {
     "base_uri": "https://localhost:8080/",
     "height": 444
    },
    "executionInfo": {
     "elapsed": 2533,
     "status": "ok",
     "timestamp": 1619779480644,
     "user": {
      "displayName": "arun",
      "photoUrl": "https://lh3.googleusercontent.com/a-/AOh14GiZjC1NqmLHLG04TOAX59OXmxfoAjcgOrpA34WVvw=s64",
      "userId": "12591767503691125936"
     },
     "user_tz": -330
    },
    "id": "CDVUyOkiXT4J",
    "outputId": "3bee9271-2a06-4787-93d0-295a87771a01"
   },
   "outputs": [
    {
     "name": "stdout",
     "output_type": "stream",
     "text": [
      "maximun: 74611.4007717\n",
      "minimun: 1312.592463\n"
     ]
    },
    {
     "data": {
      "image/png": "[encoded data removed]",
      "text/plain": [
       "<Figure size 864x432 with 1 Axes>"
      ]
     },
     "metadata": {
      "needs_background": "light",
      "tags": []
     },
     "output_type": "display_data"
    }
   ],
   "source": [
    "import seaborn as sns\n",
    "\n",
    "sns.set_theme(style=\"whitegrid\")\n",
    "\n",
    "max = dataframe[\"charges\"].max()\n",
    "print(f\"maximun: {max}\")\n",
    "min = dataframe[\"charges\"].min()\n",
    "print(f\"minimun: {min}\")\n",
    "%matplotlib inline\n",
    "\n",
    "plt.figure(figsize=(12,6))\n",
    "plt.title(\"Charges\")\n",
    "plt.xlabel(\"Charges\")\n",
    "plt.ylabel(\"Amount\")\n",
    "plt.hist(dataframe[\"charges\"], bins=10);"
   ]
  },
  {
   "cell_type": "markdown",
   "metadata": {
    "id": "7SlaxfwKXT4K"
   },
   "source": [
    "Remember to commit your notebook to Jovian after every step, so that you don't lose your work."
   ]
  },
  {
   "cell_type": "code",
   "execution_count": 18,
   "metadata": {
    "executionInfo": {
     "elapsed": 4228,
     "status": "ok",
     "timestamp": 1619779488019,
     "user": {
      "displayName": "arun",
      "photoUrl": "https://lh3.googleusercontent.com/a-/AOh14GiZjC1NqmLHLG04TOAX59OXmxfoAjcgOrpA34WVvw=s64",
      "userId": "12591767503691125936"
     },
     "user_tz": -330
    },
    "id": "pBEn8Y4tXT4K"
   },
   "outputs": [],
   "source": [
    "!pip install jovian --upgrade -q"
   ]
  },
  {
   "cell_type": "code",
   "execution_count": 19,
   "metadata": {
    "executionInfo": {
     "elapsed": 1987,
     "status": "ok",
     "timestamp": 1619779491349,
     "user": {
      "displayName": "arun",
      "photoUrl": "https://lh3.googleusercontent.com/a-/AOh14GiZjC1NqmLHLG04TOAX59OXmxfoAjcgOrpA34WVvw=s64",
      "userId": "12591767503691125936"
     },
     "user_tz": -330
    },
    "id": "IOVDaRqIXT4L"
   },
   "outputs": [],
   "source": [
    "import jovian"
   ]
  },
  {
   "cell_type": "code",
   "execution_count": 20,
   "metadata": {
    "colab": {
     "base_uri": "https://localhost:8080/",
     "height": 137
    },
    "executionInfo": {
     "elapsed": 20785,
     "status": "ok",
     "timestamp": 1619779512402,
     "user": {
      "displayName": "arun",
      "photoUrl": "https://lh3.googleusercontent.com/a-/AOh14GiZjC1NqmLHLG04TOAX59OXmxfoAjcgOrpA34WVvw=s64",
      "userId": "12591767503691125936"
     },
     "user_tz": -330
    },
    "id": "C7GX2fxKXT4L",
    "outputId": "ee8a8ef8-7769-4f03-9257-0d7a3c8e9937"
   },
   "outputs": [
    {
     "name": "stdout",
     "output_type": "stream",
     "text": [
      "[jovian] Detected Colab notebook...\u001b[0m\n",
      "[jovian] Please enter your API key ( from https://jovian.ai/ ):\u001b[0m\n",
      "API KEY: ··········\n",
      "[jovian] Uploading colab notebook to Jovian...\u001b[0m\n",
      "[jovian] Capturing environment..\u001b[0m\n",
      "[jovian] Committed successfully! https://jovian.ai/arunkumar68330/02-insurance-linear-regression\u001b[0m\n"
     ]
    },
    {
     "data": {
      "application/vnd.google.colaboratory.intrinsic+json": {
       "type": "string"
      },
      "text/plain": [
       "'https://jovian.ai/arunkumar68330/02-insurance-linear-regression'"
      ]
     },
     "execution_count": 20,
     "metadata": {
      "tags": []
     },
     "output_type": "execute_result"
    }
   ],
   "source": [
    "jovian.commit()"
   ]
  },
  {
   "cell_type": "markdown",
   "metadata": {
    "id": "nErGqZ0MXT4M"
   },
   "source": [
    "## Step 2: Prepare the dataset for training\n",
    "\n",
    "We need to convert the data from the Pandas dataframe into a PyTorch tensors for training. To do this, the first step is to convert it numpy arrays. If you've filled out `input_cols`, `categorial_cols` and `output_cols` correctly, this following function will perform the conversion to numpy arrays."
   ]
  },
  {
   "cell_type": "code",
   "execution_count": 21,
   "metadata": {
    "executionInfo": {
     "elapsed": 957,
     "status": "ok",
     "timestamp": 1619779515125,
     "user": {
      "displayName": "arun",
      "photoUrl": "https://lh3.googleusercontent.com/a-/AOh14GiZjC1NqmLHLG04TOAX59OXmxfoAjcgOrpA34WVvw=s64",
      "userId": "12591767503691125936"
     },
     "user_tz": -330
    },
    "id": "d_ym7dwBXT4M"
   },
   "outputs": [],
   "source": [
    "def dataframe_to_arrays(dataframe):\n",
    "    # Make a copy of the original dataframe\n",
    "    dataframe1 = dataframe.copy(deep=True)\n",
    "    # Convert non-numeric categorical columns to numbers\n",
    "    for col in categorical_cols:\n",
    "        dataframe1[col] = dataframe1[col].astype('category').cat.codes\n",
    "    # Extract input & outupts as numpy arrays\n",
    "    inputs_array = dataframe1[input_cols].to_numpy()\n",
    "    targets_array = dataframe1[output_cols].to_numpy()\n",
    "    return inputs_array, targets_array"
   ]
  },
  {
   "cell_type": "markdown",
   "metadata": {
    "id": "DIeGG40xXT4N"
   },
   "source": [
    "Read through the [Pandas documentation](https://pandas.pydata.org/pandas-docs/stable/user_guide/categorical.html) to understand how we're converting categorical variables into numbers."
   ]
  },
  {
   "cell_type": "code",
   "execution_count": 22,
   "metadata": {
    "colab": {
     "base_uri": "https://localhost:8080/"
    },
    "executionInfo": {
     "elapsed": 1080,
     "status": "ok",
     "timestamp": 1619779519878,
     "user": {
      "displayName": "arun",
      "photoUrl": "https://lh3.googleusercontent.com/a-/AOh14GiZjC1NqmLHLG04TOAX59OXmxfoAjcgOrpA34WVvw=s64",
      "userId": "12591767503691125936"
     },
     "user_tz": -330
    },
    "id": "qFRzASOKXT4O",
    "outputId": "3189d58c-bf51-4154-f5d0-12f8a84f66cf"
   },
   "outputs": [
    {
     "data": {
      "text/plain": [
       "(array([[55.    ,  0.    , 37.3635,  2.    ,  0.    ],\n",
       "        [64.    ,  1.    , 43.2117,  0.    ,  0.    ],\n",
       "        [55.    ,  1.    , 42.9951,  3.    ,  0.    ],\n",
       "        ...,\n",
       "        [56.    ,  1.    , 29.5659,  0.    ,  0.    ],\n",
       "        [18.    ,  0.    , 34.5477,  0.    ,  0.    ],\n",
       "        [43.    ,  1.    , 29.6742,  0.    ,  0.    ]]),\n",
       " array([[14354.2997325],\n",
       "        [16626.3270615],\n",
       "        [35174.3892435],\n",
       "        ...,\n",
       "        [13063.5386505],\n",
       "        [ 2578.3710615],\n",
       "        [ 7999.721379 ]]))"
      ]
     },
     "execution_count": 22,
     "metadata": {
      "tags": []
     },
     "output_type": "execute_result"
    }
   ],
   "source": [
    "inputs_array, targets_array = dataframe_to_arrays(dataframe)\n",
    "inputs_array, targets_array"
   ]
  },
  {
   "cell_type": "markdown",
   "metadata": {
    "id": "SjxqQYJqXT4O"
   },
   "source": [
    "**Q: Convert the numpy arrays `inputs_array` and `targets_array` into PyTorch tensors. Make sure that the data type is `torch.float32`.**"
   ]
  },
  {
   "cell_type": "code",
   "execution_count": 24,
   "metadata": {
    "executionInfo": {
     "elapsed": 1428,
     "status": "ok",
     "timestamp": 1619779573987,
     "user": {
      "displayName": "arun",
      "photoUrl": "https://lh3.googleusercontent.com/a-/AOh14GiZjC1NqmLHLG04TOAX59OXmxfoAjcgOrpA34WVvw=s64",
      "userId": "12591767503691125936"
     },
     "user_tz": -330
    },
    "id": "Cr2cTirIXT4P"
   },
   "outputs": [],
   "source": [
    "inputs = torch.tensor(inputs_array).float()\n",
    "\n",
    "targets = torch.tensor(targets_array).float()"
   ]
  },
  {
   "cell_type": "code",
   "execution_count": 25,
   "metadata": {
    "colab": {
     "base_uri": "https://localhost:8080/"
    },
    "executionInfo": {
     "elapsed": 734,
     "status": "ok",
     "timestamp": 1619779576385,
     "user": {
      "displayName": "arun",
      "photoUrl": "https://lh3.googleusercontent.com/a-/AOh14GiZjC1NqmLHLG04TOAX59OXmxfoAjcgOrpA34WVvw=s64",
      "userId": "12591767503691125936"
     },
     "user_tz": -330
    },
    "id": "ANvbWGM-XT4P",
    "outputId": "fde8286b-e2cd-4d3d-ad92-2447dae76112"
   },
   "outputs": [
    {
     "data": {
      "text/plain": [
       "(torch.float32, torch.float32)"
      ]
     },
     "execution_count": 25,
     "metadata": {
      "tags": []
     },
     "output_type": "execute_result"
    }
   ],
   "source": [
    "inputs.dtype, targets.dtype"
   ]
  },
  {
   "cell_type": "markdown",
   "metadata": {
    "id": "1Ea_udfyXT4Q"
   },
   "source": [
    "Next, we need to create PyTorch datasets & data loaders for training & validation. We'll start by creating a `TensorDataset`."
   ]
  },
  {
   "cell_type": "code",
   "execution_count": 26,
   "metadata": {
    "executionInfo": {
     "elapsed": 1352,
     "status": "ok",
     "timestamp": 1619779580213,
     "user": {
      "displayName": "arun",
      "photoUrl": "https://lh3.googleusercontent.com/a-/AOh14GiZjC1NqmLHLG04TOAX59OXmxfoAjcgOrpA34WVvw=s64",
      "userId": "12591767503691125936"
     },
     "user_tz": -330
    },
    "id": "KzUtPSsnXT4Q"
   },
   "outputs": [],
   "source": [
    "dataset = TensorDataset(inputs, targets)"
   ]
  },
  {
   "cell_type": "markdown",
   "metadata": {
    "id": "s4KAUIxWXT4R"
   },
   "source": [
    "**Q: Pick a number between `0.1` and `0.2` to determine the fraction of data that will be used for creating the validation set. Then use `random_split` to create training & validation datasets.**"
   ]
  },
  {
   "cell_type": "code",
   "execution_count": 28,
   "metadata": {
    "executionInfo": {
     "elapsed": 1246,
     "status": "ok",
     "timestamp": 1619779624086,
     "user": {
      "displayName": "arun",
      "photoUrl": "https://lh3.googleusercontent.com/a-/AOh14GiZjC1NqmLHLG04TOAX59OXmxfoAjcgOrpA34WVvw=s64",
      "userId": "12591767503691125936"
     },
     "user_tz": -330
    },
    "id": "-DdjjauzXT4R"
   },
   "outputs": [],
   "source": [
    "val_percent = 0.2 # between 0.1 and 0.2\n",
    "val_size = int(num_rows * val_percent)\n",
    "train_size = num_rows - val_size\n",
    "\n",
    "\n",
    "train_ds, val_ds = random_split(dataset, [train_size, val_size]) # Use the random_split function to split dataset into 2 parts of the desired length"
   ]
  },
  {
   "cell_type": "markdown",
   "metadata": {
    "id": "z4cNvTWpXT4S"
   },
   "source": [
    "Finally, we can create data loaders for training & validation.\n",
    "\n",
    "**Q: Pick a batch size for the data loader.**"
   ]
  },
  {
   "cell_type": "code",
   "execution_count": 29,
   "metadata": {
    "executionInfo": {
     "elapsed": 968,
     "status": "ok",
     "timestamp": 1619779637088,
     "user": {
      "displayName": "arun",
      "photoUrl": "https://lh3.googleusercontent.com/a-/AOh14GiZjC1NqmLHLG04TOAX59OXmxfoAjcgOrpA34WVvw=s64",
      "userId": "12591767503691125936"
     },
     "user_tz": -330
    },
    "id": "iIatPscaXT4S"
   },
   "outputs": [],
   "source": [
    "batch_size = 150"
   ]
  },
  {
   "cell_type": "code",
   "execution_count": 30,
   "metadata": {
    "executionInfo": {
     "elapsed": 1114,
     "status": "ok",
     "timestamp": 1619779638875,
     "user": {
      "displayName": "arun",
      "photoUrl": "https://lh3.googleusercontent.com/a-/AOh14GiZjC1NqmLHLG04TOAX59OXmxfoAjcgOrpA34WVvw=s64",
      "userId": "12591767503691125936"
     },
     "user_tz": -330
    },
    "id": "kamt-fVnXT4T"
   },
   "outputs": [],
   "source": [
    "train_loader = DataLoader(train_ds, batch_size, shuffle=True)\n",
    "val_loader = DataLoader(val_ds, batch_size)"
   ]
  },
  {
   "cell_type": "markdown",
   "metadata": {
    "id": "UtOJmERoXT4U"
   },
   "source": [
    "Let's look at a batch of data to verify everything is working fine so far."
   ]
  },
  {
   "cell_type": "code",
   "execution_count": 31,
   "metadata": {
    "colab": {
     "base_uri": "https://localhost:8080/"
    },
    "executionInfo": {
     "elapsed": 1580,
     "status": "ok",
     "timestamp": 1619779642944,
     "user": {
      "displayName": "arun",
      "photoUrl": "https://lh3.googleusercontent.com/a-/AOh14GiZjC1NqmLHLG04TOAX59OXmxfoAjcgOrpA34WVvw=s64",
      "userId": "12591767503691125936"
     },
     "user_tz": -330
    },
    "id": "_xp6V1ebXT4X",
    "outputId": "5297250a-24ef-47aa-c464-0e329bcc831b"
   },
   "outputs": [
    {
     "name": "stdout",
     "output_type": "stream",
     "text": [
      "inputs: tensor([[42.0000,  0.0000, 28.8420,  1.0000,  0.0000],\n",
      "        [28.0000,  0.0000, 37.7454,  0.0000,  0.0000],\n",
      "        [20.0000,  0.0000, 37.9620,  0.0000,  0.0000],\n",
      "        [54.0000,  1.0000, 34.2228,  0.0000,  0.0000],\n",
      "        [39.0000,  1.0000, 29.8908,  1.0000,  0.0000],\n",
      "        [21.0000,  1.0000, 25.4220,  1.0000,  0.0000],\n",
      "        [40.0000,  1.0000, 37.3635,  1.0000,  1.0000],\n",
      "        [27.0000,  0.0000, 39.6720,  1.0000,  0.0000],\n",
      "        [42.0000,  1.0000, 41.0058,  2.0000,  0.0000],\n",
      "        [52.0000,  1.0000, 39.3129,  3.0000,  1.0000],\n",
      "        [33.0000,  1.0000, 28.2663,  0.0000,  1.0000],\n",
      "        [25.0000,  1.0000, 31.4070,  0.0000,  0.0000],\n",
      "        [42.0000,  0.0000, 41.2623,  1.0000,  0.0000],\n",
      "        [57.0000,  1.0000, 38.3382,  1.0000,  0.0000],\n",
      "        [49.0000,  1.0000, 36.8220,  3.0000,  0.0000],\n",
      "        [20.0000,  0.0000, 35.8644,  0.0000,  0.0000],\n",
      "        [53.0000,  1.0000, 33.6072,  0.0000,  0.0000],\n",
      "        [62.0000,  0.0000, 44.6880,  0.0000,  0.0000],\n",
      "        [22.0000,  0.0000, 27.7020,  0.0000,  0.0000],\n",
      "        [55.0000,  0.0000, 37.3635,  2.0000,  0.0000],\n",
      "        [24.0000,  1.0000, 26.6760,  0.0000,  0.0000],\n",
      "        [43.0000,  1.0000, 29.0928,  5.0000,  0.0000],\n",
      "        [63.0000,  0.0000, 26.3169,  0.0000,  0.0000],\n",
      "        [29.0000,  1.0000, 38.0133,  2.0000,  0.0000],\n",
      "        [51.0000,  0.0000, 39.8544,  2.0000,  1.0000],\n",
      "        [29.0000,  0.0000, 29.5260,  0.0000,  0.0000],\n",
      "        [26.0000,  1.0000, 33.2310,  1.0000,  0.0000],\n",
      "        [62.0000,  1.0000, 24.3960,  0.0000,  0.0000],\n",
      "        [60.0000,  1.0000, 42.1287,  0.0000,  0.0000],\n",
      "        [34.0000,  0.0000, 43.3200,  3.0000,  0.0000],\n",
      "        [61.0000,  1.0000, 40.8804,  0.0000,  1.0000],\n",
      "        [33.0000,  0.0000, 48.9516,  3.0000,  0.0000],\n",
      "        [32.0000,  1.0000, 31.7319,  1.0000,  0.0000],\n",
      "        [18.0000,  0.0000, 34.5477,  0.0000,  0.0000],\n",
      "        [18.0000,  1.0000, 60.5682,  0.0000,  0.0000],\n",
      "        [54.0000,  1.0000, 23.9514,  2.0000,  0.0000],\n",
      "        [37.0000,  1.0000, 33.7896,  0.0000,  0.0000],\n",
      "        [42.0000,  1.0000, 32.2734,  3.0000,  1.0000],\n",
      "        [18.0000,  1.0000, 44.6196,  0.0000,  0.0000],\n",
      "        [62.0000,  1.0000, 36.4971,  0.0000,  1.0000],\n",
      "        [54.0000,  0.0000, 28.0497,  3.0000,  0.0000],\n",
      "        [29.0000,  0.0000, 23.0679,  2.0000,  0.0000],\n",
      "        [18.0000,  1.0000, 38.2299,  0.0000,  1.0000],\n",
      "        [61.0000,  1.0000, 38.6631,  0.0000,  0.0000],\n",
      "        [42.0000,  0.0000, 30.3240,  0.0000,  1.0000],\n",
      "        [55.0000,  1.0000, 37.3635,  0.0000,  0.0000],\n",
      "        [58.0000,  0.0000, 47.7774,  0.0000,  0.0000],\n",
      "        [58.0000,  1.0000, 42.1287,  2.0000,  1.0000],\n",
      "        [20.0000,  1.0000, 34.3311,  5.0000,  0.0000],\n",
      "        [33.0000,  0.0000, 25.2339,  1.0000,  0.0000],\n",
      "        [18.0000,  1.0000, 19.7106,  2.0000,  1.0000],\n",
      "        [49.0000,  0.0000, 27.1833,  3.0000,  1.0000],\n",
      "        [59.0000,  0.0000, 41.9121,  1.0000,  1.0000],\n",
      "        [55.0000,  0.0000, 42.2940,  0.0000,  0.0000],\n",
      "        [31.0000,  1.0000, 35.1975,  0.0000,  0.0000],\n",
      "        [18.0000,  0.0000, 43.6392,  0.0000,  0.0000],\n",
      "        [18.0000,  1.0000, 46.8996,  0.0000,  0.0000],\n",
      "        [47.0000,  1.0000, 32.1651,  4.0000,  0.0000],\n",
      "        [52.0000,  0.0000, 35.5680,  0.0000,  0.0000],\n",
      "        [46.0000,  1.0000, 38.1216,  1.0000,  0.0000],\n",
      "        [36.0000,  1.0000, 39.2502,  0.0000,  1.0000],\n",
      "        [43.0000,  0.0000, 28.8078,  1.0000,  1.0000],\n",
      "        [64.0000,  0.0000, 30.6489,  0.0000,  1.0000],\n",
      "        [47.0000,  1.0000, 33.9720,  3.0000,  1.0000],\n",
      "        [19.0000,  1.0000, 24.8007,  0.0000,  0.0000],\n",
      "        [35.0000,  1.0000, 27.5082,  1.0000,  0.0000],\n",
      "        [40.0000,  1.0000, 47.5266,  0.0000,  0.0000],\n",
      "        [42.0000,  1.0000, 42.3852,  2.0000,  0.0000],\n",
      "        [41.0000,  1.0000, 27.2916,  1.0000,  0.0000],\n",
      "        [57.0000,  0.0000, 36.2805,  0.0000,  0.0000],\n",
      "        [55.0000,  0.0000, 33.8580,  2.0000,  0.0000],\n",
      "        [28.0000,  1.0000, 38.5548,  0.0000,  0.0000],\n",
      "        [41.0000,  0.0000, 37.5801,  0.0000,  0.0000],\n",
      "        [39.0000,  0.0000, 38.8740,  3.0000,  0.0000],\n",
      "        [44.0000,  0.0000, 42.1287,  1.0000,  0.0000],\n",
      "        [33.0000,  1.0000, 38.1216,  5.0000,  0.0000],\n",
      "        [25.0000,  1.0000, 30.4323,  4.0000,  0.0000],\n",
      "        [18.0000,  1.0000, 34.6560,  3.0000,  0.0000],\n",
      "        [24.0000,  0.0000, 25.7640,  0.0000,  0.0000],\n",
      "        [19.0000,  0.0000, 37.5060,  0.0000,  0.0000],\n",
      "        [44.0000,  0.0000, 50.0346,  2.0000,  1.0000],\n",
      "        [52.0000,  1.0000, 37.9050,  0.0000,  0.0000],\n",
      "        [19.0000,  0.0000, 21.2040,  0.0000,  0.0000],\n",
      "        [35.0000,  1.0000, 32.9460,  3.0000,  0.0000],\n",
      "        [20.0000,  1.0000, 36.9303,  1.0000,  0.0000],\n",
      "        [20.0000,  1.0000, 34.9809,  0.0000,  1.0000],\n",
      "        [18.0000,  0.0000, 34.3311,  0.0000,  0.0000],\n",
      "        [47.0000,  0.0000, 27.4740,  1.0000,  0.0000],\n",
      "        [30.0000,  1.0000, 29.0244,  0.0000,  0.0000],\n",
      "        [63.0000,  1.0000, 32.2734,  0.0000,  0.0000],\n",
      "        [18.0000,  0.0000, 30.4722,  0.0000,  0.0000],\n",
      "        [53.0000,  0.0000, 36.8220,  2.0000,  0.0000],\n",
      "        [18.0000,  1.0000, 38.8740,  0.0000,  0.0000],\n",
      "        [19.0000,  0.0000, 34.8726,  2.0000,  0.0000],\n",
      "        [42.0000,  0.0000, 26.6418,  0.0000,  1.0000],\n",
      "        [19.0000,  1.0000, 31.0821,  2.0000,  0.0000],\n",
      "        [23.0000,  1.0000, 27.9414,  0.0000,  0.0000],\n",
      "        [33.0000,  1.0000, 48.4044,  1.0000,  0.0000],\n",
      "        [31.0000,  1.0000, 33.9834,  0.0000,  1.0000],\n",
      "        [27.0000,  0.0000, 28.2150,  0.0000,  1.0000],\n",
      "        [55.0000,  1.0000, 42.9951,  3.0000,  0.0000],\n",
      "        [33.0000,  1.0000, 48.3360,  5.0000,  0.0000],\n",
      "        [19.0000,  1.0000, 40.3560,  0.0000,  0.0000],\n",
      "        [24.0000,  0.0000, 34.1145,  0.0000,  0.0000],\n",
      "        [38.0000,  0.0000, 46.2441,  1.0000,  0.0000],\n",
      "        [21.0000,  1.0000, 29.3493,  2.0000,  0.0000],\n",
      "        [54.0000,  0.0000, 37.2552,  0.0000,  0.0000],\n",
      "        [51.0000,  0.0000, 38.9880,  1.0000,  0.0000],\n",
      "        [53.0000,  1.0000, 38.8797,  0.0000,  1.0000],\n",
      "        [57.0000,  0.0000, 39.0963,  2.0000,  0.0000],\n",
      "        [36.0000,  0.0000, 34.1088,  1.0000,  0.0000],\n",
      "        [41.0000,  0.0000, 37.7967,  3.0000,  0.0000],\n",
      "        [47.0000,  0.0000, 36.4800,  1.0000,  0.0000],\n",
      "        [36.0000,  0.0000, 33.1056,  4.0000,  0.0000],\n",
      "        [31.0000,  0.0000, 43.4283,  1.0000,  1.0000],\n",
      "        [54.0000,  1.0000, 34.4394,  0.0000,  0.0000],\n",
      "        [59.0000,  0.0000, 31.7262,  3.0000,  0.0000],\n",
      "        [20.0000,  0.0000, 27.8388,  0.0000,  1.0000],\n",
      "        [64.0000,  1.0000, 42.1344,  2.0000,  1.0000],\n",
      "        [40.0000,  0.0000, 25.3308,  2.0000,  1.0000],\n",
      "        [58.0000,  0.0000, 33.0600,  0.0000,  0.0000],\n",
      "        [18.0000,  0.0000, 29.9991,  0.0000,  0.0000],\n",
      "        [50.0000,  1.0000, 36.6054,  2.0000,  0.0000],\n",
      "        [35.0000,  1.0000, 44.0040,  1.0000,  0.0000],\n",
      "        [38.0000,  1.0000, 31.7319,  2.0000,  0.0000],\n",
      "        [45.0000,  0.0000, 37.7340,  0.0000,  0.0000],\n",
      "        [49.0000,  1.0000, 29.4576,  1.0000,  0.0000],\n",
      "        [57.0000,  1.0000, 38.7714,  0.0000,  0.0000],\n",
      "        [21.0000,  0.0000, 25.2339,  0.0000,  0.0000],\n",
      "        [41.0000,  0.0000, 41.1312,  1.0000,  0.0000],\n",
      "        [32.0000,  0.0000, 20.2521,  2.0000,  1.0000],\n",
      "        [43.0000,  1.0000, 31.6920,  0.0000,  1.0000],\n",
      "        [56.0000,  0.0000, 45.3948,  0.0000,  0.0000],\n",
      "        [60.0000,  1.0000, 46.6488,  0.0000,  1.0000],\n",
      "        [47.0000,  1.0000, 29.0244,  2.0000,  0.0000],\n",
      "        [48.0000,  0.0000, 31.1904,  1.0000,  0.0000],\n",
      "        [41.0000,  0.0000, 36.0240,  0.0000,  0.0000],\n",
      "        [26.0000,  0.0000, 34.1088,  2.0000,  0.0000],\n",
      "        [47.0000,  1.0000, 41.2566,  0.0000,  1.0000],\n",
      "        [55.0000,  0.0000, 34.7700,  0.0000,  0.0000],\n",
      "        [59.0000,  1.0000, 42.2940,  1.0000,  0.0000],\n",
      "        [44.0000,  1.0000, 35.7390,  1.0000,  1.0000],\n",
      "        [34.0000,  1.0000, 38.9994,  0.0000,  0.0000],\n",
      "        [60.0000,  0.0000, 29.4576,  0.0000,  0.0000],\n",
      "        [41.0000,  1.0000, 40.7550,  1.0000,  1.0000],\n",
      "        [63.0000,  1.0000, 47.2758,  0.0000,  0.0000],\n",
      "        [29.0000,  0.0000, 28.0440,  2.0000,  0.0000],\n",
      "        [34.0000,  1.0000, 30.7800,  2.0000,  0.0000],\n",
      "        [25.0000,  1.0000, 34.8726,  0.0000,  0.0000],\n",
      "        [62.0000,  0.0000, 37.2552,  0.0000,  0.0000]])\n",
      "targets: tensor([[ 8243.2334],\n",
      "        [ 3710.7896],\n",
      "        [ 2200.1697],\n",
      "        [28637.4805],\n",
      "        [ 7164.5757],\n",
      "        [ 2460.6035],\n",
      "        [45776.6406],\n",
      "        [ 4186.2588],\n",
      "        [ 8377.5869],\n",
      "        [70225.0391],\n",
      "        [20948.2969],\n",
      "        [ 2952.1084],\n",
      "        [ 8709.0625],\n",
      "        [13975.8057],\n",
      "        [12015.2686],\n",
      "        [ 2197.1775],\n",
      "        [11100.5439],\n",
      "        [15760.9062],\n",
      "        [ 2516.0488],\n",
      "        [14354.2998],\n",
      "        [ 2304.4485],\n",
      "        [16939.6465],\n",
      "        [16908.6465],\n",
      "        [22747.5527],\n",
      "        [52230.1992],\n",
      "        [ 3923.3423],\n",
      "        [ 3396.4006],\n",
      "        [15159.8281],\n",
      "        [14907.1660],\n",
      "        [ 7249.8442],\n",
      "        [54520.9570],\n",
      "        [ 7442.3623],\n",
      "        [ 5211.6509],\n",
      "        [ 2578.3711],\n",
      "        [ 1361.2513],\n",
      "        [12886.0430],\n",
      "        [ 5882.9316],\n",
      "        [38361.3281],\n",
      "        [15081.3672],\n",
      "        [53480.9414],\n",
      "        [14601.2598],\n",
      "        [ 5740.4995],\n",
      "        [40502.8750],\n",
      "        [15378.3223],\n",
      "        [24977.9863],\n",
      "        [12403.9102],\n",
      "        [28345.9844],\n",
      "        [55570.8984],\n",
      "        [ 5750.6201],\n",
      "        [ 6264.2676],\n",
      "        [15010.4629],\n",
      "        [28205.0879],\n",
      "        [56039.2461],\n",
      "        [12534.9639],\n",
      "        [ 4513.5781],\n",
      "        [ 1909.2308],\n",
      "        [ 1341.7521],\n",
      "        [12176.2900],\n",
      "        [11262.3262],\n",
      "        [ 9751.4697],\n",
      "        [44158.8125],\n",
      "        [25472.4707],\n",
      "        [34317.2500],\n",
      "        [29612.1016],\n",
      "        [ 1903.9204],\n",
      "        [ 5996.5024],\n",
      "        [ 6363.3364],\n",
      "        [ 8379.5547],\n",
      "        [ 8024.4209],\n",
      "        [13855.8701],\n",
      "        [13901.1885],\n",
      "        [23017.8027],\n",
      "        [ 7688.0986],\n",
      "        [ 8679.6709],\n",
      "        [ 9387.0684],\n",
      "        [ 7784.9326],\n",
      "        [ 5707.2378],\n",
      "        [ 4073.7856],\n",
      "        [ 2875.2773],\n",
      "        [ 2046.0656],\n",
      "        [54055.1523],\n",
      "        [11375.6406],\n",
      "        [ 2022.8094],\n",
      "        [ 6934.4097],\n",
      "        [ 2763.8081],\n",
      "        [39166.7070],\n",
      "        [ 2578.0620],\n",
      "        [30696.7988],\n",
      "        [ 4264.7544],\n",
      "        [16111.0146],\n",
      "        [ 1890.4470],\n",
      "        [34148.1836],\n",
      "        [ 1330.3029],\n",
      "        [28149.8262],\n",
      "        [23358.7539],\n",
      "        [26317.5820],\n",
      "        [ 2803.4321],\n",
      "        [13252.2568],\n",
      "        [22639.9316],\n",
      "        [19396.0020],\n",
      "        [35174.3906],\n",
      "        [ 7799.5044],\n",
      "        [ 1478.0013],\n",
      "        [ 3335.3000],\n",
      "        [ 7457.0620],\n",
      "        [ 3837.4463],\n",
      "        [12781.0020],\n",
      "        [11551.0605],\n",
      "        [50607.6680],\n",
      "        [15472.1465],\n",
      "        [ 6409.3032],\n",
      "        [ 9989.7979],\n",
      "        [10005.0762],\n",
      "        [ 8475.2617],\n",
      "        [68528.1562],\n",
      "        [11970.8545],\n",
      "        [16381.5059],\n",
      "        [30567.0391],\n",
      "        [58005.8633],\n",
      "        [22749.7910],\n",
      "        [13855.6572],\n",
      "        [ 2571.8821],\n",
      "        [29640.0000],\n",
      "        [ 5571.9248],\n",
      "        [ 7553.3594],\n",
      "        [ 8593.7480],\n",
      "        [10860.5020],\n",
      "        [13287.2930],\n",
      "        [ 3025.4453],\n",
      "        [ 7934.1846],\n",
      "        [38298.9961],\n",
      "        [44260.7773],\n",
      "        [12976.1396],\n",
      "        [56948.0625],\n",
      "        [10793.5498],\n",
      "        [11053.4375],\n",
      "        [ 7237.7686],\n",
      "        [ 4658.9131],\n",
      "        [48761.0156],\n",
      "        [12524.2295],\n",
      "        [14446.1914],\n",
      "        [46281.0977],\n",
      "        [ 4604.1606],\n",
      "        [33840.0703],\n",
      "        [47120.1641],\n",
      "        [15684.3066],\n",
      "        [ 5299.4883],\n",
      "        [13733.2832],\n",
      "        [ 3191.0522],\n",
      "        [16198.4131]])\n"
     ]
    }
   ],
   "source": [
    "for xb, yb in train_loader:\n",
    "    print(\"inputs:\", xb)\n",
    "    print(\"targets:\", yb)\n",
    "    break"
   ]
  },
  {
   "cell_type": "markdown",
   "metadata": {
    "id": "4adGmDKjXT4Y"
   },
   "source": [
    "Let's save our work by committing to Jovian."
   ]
  },
  {
   "cell_type": "code",
   "execution_count": 32,
   "metadata": {
    "colab": {
     "base_uri": "https://localhost:8080/",
     "height": 86
    },
    "executionInfo": {
     "elapsed": 3537,
     "status": "ok",
     "timestamp": 1619779647823,
     "user": {
      "displayName": "arun",
      "photoUrl": "https://lh3.googleusercontent.com/a-/AOh14GiZjC1NqmLHLG04TOAX59OXmxfoAjcgOrpA34WVvw=s64",
      "userId": "12591767503691125936"
     },
     "user_tz": -330
    },
    "id": "JOJ-gnuTXT4Z",
    "outputId": "e8c7abbd-b6d5-4ff6-aeaf-ddb8b56028ee"
   },
   "outputs": [
    {
     "name": "stdout",
     "output_type": "stream",
     "text": [
      "[jovian] Detected Colab notebook...\u001b[0m\n",
      "[jovian] Uploading colab notebook to Jovian...\u001b[0m\n",
      "[jovian] Committed successfully! https://jovian.ai/arunkumar68330/02-insurance-linear-regression\u001b[0m\n"
     ]
    },
    {
     "data": {
      "application/vnd.google.colaboratory.intrinsic+json": {
       "type": "string"
      },
      "text/plain": [
       "'https://jovian.ai/arunkumar68330/02-insurance-linear-regression'"
      ]
     },
     "execution_count": 32,
     "metadata": {
      "tags": []
     },
     "output_type": "execute_result"
    }
   ],
   "source": [
    "jovian.commit(project=project_name, environment=None)"
   ]
  },
  {
   "cell_type": "markdown",
   "metadata": {
    "id": "a-LRZGlAXT4Z"
   },
   "source": [
    "## Step 3: Create a Linear Regression Model\n",
    "\n",
    "Our model itself is a fairly straightforward linear regression (we'll build more complex models in the next assignment). \n"
   ]
  },
  {
   "cell_type": "code",
   "execution_count": 33,
   "metadata": {
    "executionInfo": {
     "elapsed": 1231,
     "status": "ok",
     "timestamp": 1619779651615,
     "user": {
      "displayName": "arun",
      "photoUrl": "https://lh3.googleusercontent.com/a-/AOh14GiZjC1NqmLHLG04TOAX59OXmxfoAjcgOrpA34WVvw=s64",
      "userId": "12591767503691125936"
     },
     "user_tz": -330
    },
    "id": "9j9O7eG4XT4a"
   },
   "outputs": [],
   "source": [
    "input_size = len(input_cols)\n",
    "output_size = len(output_cols)"
   ]
  },
  {
   "cell_type": "markdown",
   "metadata": {
    "id": "rkUgE1klXT4a"
   },
   "source": [
    "**Q: Complete the class definition below by filling out the constructor (`__init__`), `forward`, `training_step` and `validation_step` methods.**\n",
    "\n",
    "Hint: Think carefully about picking a good loss fuction (it's not cross entropy). Maybe try 2-3 of them and see which one works best. See https://pytorch.org/docs/stable/nn.functional.html#loss-functions"
   ]
  },
  {
   "cell_type": "code",
   "execution_count": 53,
   "metadata": {
    "executionInfo": {
     "elapsed": 1252,
     "status": "ok",
     "timestamp": 1619780190501,
     "user": {
      "displayName": "arun",
      "photoUrl": "https://lh3.googleusercontent.com/a-/AOh14GiZjC1NqmLHLG04TOAX59OXmxfoAjcgOrpA34WVvw=s64",
      "userId": "12591767503691125936"
     },
     "user_tz": -330
    },
    "id": "cjrycjgnXT4b"
   },
   "outputs": [],
   "source": [
    "class InsuranceModel(nn.Module):\n",
    "    def __init__(self):\n",
    "        super().__init__()\n",
    "        self.linear =  nn.Linear(input_size, output_size)                  # fill this (hint: use input_size & output_size defined above)\n",
    "        \n",
    "    def forward(self, xb):\n",
    "        out = self.linear(xb)                          # fill this\n",
    "        return out\n",
    "    \n",
    "    def training_step(self, batch):\n",
    "        inputs, targets = batch \n",
    "        # Generate predictions\n",
    "        out = self(inputs)          \n",
    "        # Calcuate loss\n",
    "        loss = F.l1_loss(out, targets)                          # fill this\n",
    "        return loss\n",
    "    \n",
    "    def validation_step(self, batch):\n",
    "        inputs, targets = batch\n",
    "        # Generate predictions\n",
    "        out = self(inputs)\n",
    "        # Calculate loss\n",
    "        loss = F.l1_loss(out, targets)                           # fill this    \n",
    "        return {'val_loss': loss.detach()}\n",
    "        \n",
    "    def validation_epoch_end(self, outputs):\n",
    "        batch_losses = [x['val_loss'] for x in outputs]\n",
    "        epoch_loss = torch.stack(batch_losses).mean()   # Combine losses\n",
    "        return {'val_loss': epoch_loss.item()}\n",
    "    \n",
    "    def epoch_end(self, epoch, result, num_epochs):\n",
    "        # Print result every 20th epoch\n",
    "        if (epoch+1) % 20 == 0 or epoch == num_epochs-1:\n",
    "            print(\"Epoch [{}], val_loss: {:.4f}\".format(epoch+1, result['val_loss']))"
   ]
  },
  {
   "cell_type": "markdown",
   "metadata": {
    "id": "FJCT3Gg_XT4c"
   },
   "source": [
    "Let us create a model using the `InsuranceModel` class. You may need to come back later and re-run the next cell to reinitialize the model, in case the loss becomes `nan` or `infinity`."
   ]
  },
  {
   "cell_type": "code",
   "execution_count": 54,
   "metadata": {
    "executionInfo": {
     "elapsed": 1355,
     "status": "ok",
     "timestamp": 1619780193968,
     "user": {
      "displayName": "arun",
      "photoUrl": "https://lh3.googleusercontent.com/a-/AOh14GiZjC1NqmLHLG04TOAX59OXmxfoAjcgOrpA34WVvw=s64",
      "userId": "12591767503691125936"
     },
     "user_tz": -330
    },
    "id": "YL4M5Hs2XT4c"
   },
   "outputs": [],
   "source": [
    "model = InsuranceModel()"
   ]
  },
  {
   "cell_type": "markdown",
   "metadata": {
    "id": "aXAT6qXXXT4d"
   },
   "source": [
    "Let's check out the weights and biases of the model using `model.parameters`."
   ]
  },
  {
   "cell_type": "code",
   "execution_count": 55,
   "metadata": {
    "colab": {
     "base_uri": "https://localhost:8080/"
    },
    "executionInfo": {
     "elapsed": 2034,
     "status": "ok",
     "timestamp": 1619780197411,
     "user": {
      "displayName": "arun",
      "photoUrl": "https://lh3.googleusercontent.com/a-/AOh14GiZjC1NqmLHLG04TOAX59OXmxfoAjcgOrpA34WVvw=s64",
      "userId": "12591767503691125936"
     },
     "user_tz": -330
    },
    "id": "IpCvu23XXT4e",
    "outputId": "e4016ab0-1ba7-48bd-f665-02fa4ca4000e"
   },
   "outputs": [
    {
     "data": {
      "text/plain": [
       "[Parameter containing:\n",
       " tensor([[-0.1649,  0.4370,  0.1851, -0.4347,  0.2405]], requires_grad=True),\n",
       " Parameter containing:\n",
       " tensor([0.2945], requires_grad=True)]"
      ]
     },
     "execution_count": 55,
     "metadata": {
      "tags": []
     },
     "output_type": "execute_result"
    }
   ],
   "source": [
    "list(model.parameters())"
   ]
  },
  {
   "cell_type": "markdown",
   "metadata": {
    "id": "-O-UyUrdXT4e"
   },
   "source": [
    "One final commit before we train the model."
   ]
  },
  {
   "cell_type": "code",
   "execution_count": 56,
   "metadata": {
    "colab": {
     "base_uri": "https://localhost:8080/",
     "height": 86
    },
    "executionInfo": {
     "elapsed": 2935,
     "status": "ok",
     "timestamp": 1619780202060,
     "user": {
      "displayName": "arun",
      "photoUrl": "https://lh3.googleusercontent.com/a-/AOh14GiZjC1NqmLHLG04TOAX59OXmxfoAjcgOrpA34WVvw=s64",
      "userId": "12591767503691125936"
     },
     "user_tz": -330
    },
    "id": "9t2B5zcfXT4f",
    "outputId": "53865a77-8950-45db-efdb-399d3b86063b"
   },
   "outputs": [
    {
     "name": "stdout",
     "output_type": "stream",
     "text": [
      "[jovian] Detected Colab notebook...\u001b[0m\n",
      "[jovian] Uploading colab notebook to Jovian...\u001b[0m\n",
      "[jovian] Committed successfully! https://jovian.ai/arunkumar68330/02-insurance-linear-regression\u001b[0m\n"
     ]
    },
    {
     "data": {
      "application/vnd.google.colaboratory.intrinsic+json": {
       "type": "string"
      },
      "text/plain": [
       "'https://jovian.ai/arunkumar68330/02-insurance-linear-regression'"
      ]
     },
     "execution_count": 56,
     "metadata": {
      "tags": []
     },
     "output_type": "execute_result"
    }
   ],
   "source": [
    "jovian.commit(project=project_name, environment=None)"
   ]
  },
  {
   "cell_type": "markdown",
   "metadata": {
    "id": "uYbGYIKeXT4f"
   },
   "source": [
    "## Step 4: Train the model to fit the data\n",
    "\n",
    "To train our model, we'll use the same `fit` function explained in the lecture. That's the benefit of defining a generic training loop - you can use it for any problem."
   ]
  },
  {
   "cell_type": "code",
   "execution_count": 57,
   "metadata": {
    "executionInfo": {
     "elapsed": 1323,
     "status": "ok",
     "timestamp": 1619780204458,
     "user": {
      "displayName": "arun",
      "photoUrl": "https://lh3.googleusercontent.com/a-/AOh14GiZjC1NqmLHLG04TOAX59OXmxfoAjcgOrpA34WVvw=s64",
      "userId": "12591767503691125936"
     },
     "user_tz": -330
    },
    "id": "Hx81h_SvXT4g"
   },
   "outputs": [],
   "source": [
    "def evaluate(model, val_loader):\n",
    "    outputs = [model.validation_step(batch) for batch in val_loader]\n",
    "    return model.validation_epoch_end(outputs)\n",
    "\n",
    "def fit(epochs, lr, model, train_loader, val_loader, opt_func=torch.optim.SGD):\n",
    "    history = []\n",
    "    optimizer = opt_func(model.parameters(), lr)\n",
    "    for epoch in range(epochs):\n",
    "        # Training Phase \n",
    "        for batch in train_loader:\n",
    "            loss = model.training_step(batch)\n",
    "            loss.backward()\n",
    "            optimizer.step()\n",
    "            optimizer.zero_grad()\n",
    "        # Validation phase\n",
    "        result = evaluate(model, val_loader)\n",
    "        model.epoch_end(epoch, result, epochs)\n",
    "        history.append(result)\n",
    "    return history"
   ]
  },
  {
   "cell_type": "markdown",
   "metadata": {
    "id": "7DcEXdXHXT4h"
   },
   "source": [
    "**Q: Use the `evaluate` function to calculate the loss on the validation set before training.**"
   ]
  },
  {
   "cell_type": "code",
   "execution_count": 58,
   "metadata": {
    "colab": {
     "base_uri": "https://localhost:8080/"
    },
    "executionInfo": {
     "elapsed": 707,
     "status": "ok",
     "timestamp": 1619780206503,
     "user": {
      "displayName": "arun",
      "photoUrl": "https://lh3.googleusercontent.com/a-/AOh14GiZjC1NqmLHLG04TOAX59OXmxfoAjcgOrpA34WVvw=s64",
      "userId": "12591767503691125936"
     },
     "user_tz": -330
    },
    "id": "J9vdtpVdXT4i",
    "outputId": "1c4850d6-44f0-4d24-eb15-f7f61d44d8b1"
   },
   "outputs": [
    {
     "name": "stdout",
     "output_type": "stream",
     "text": [
      "{'val_loss': 16301.6982421875}\n"
     ]
    }
   ],
   "source": [
    "result = evaluate(model, val_loader) # Use the the evaluate function\n",
    "print(result)"
   ]
  },
  {
   "cell_type": "markdown",
   "metadata": {
    "id": "w7faN57GXT4i"
   },
   "source": [
    "\n",
    "We are now ready to train the model. You may need to run the training loop many times, for different number of epochs and with different learning rates, to get a good result. Also, if your loss becomes too large (or `nan`), you may have to re-initialize the model by running the cell `model = InsuranceModel()`. Experiment with this for a while, and try to get to as low a loss as possible."
   ]
  },
  {
   "cell_type": "markdown",
   "metadata": {
    "id": "yGc7lF8eXT4j"
   },
   "source": [
    "**Q: Train the model 4-5 times with different learning rates & for different number of epochs.**\n",
    "\n",
    "Hint: Vary learning rates by orders of 10 (e.g. `1e-2`, `1e-3`, `1e-4`, `1e-5`, `1e-6`) to figure out what works."
   ]
  },
  {
   "cell_type": "code",
   "execution_count": 59,
   "metadata": {
    "colab": {
     "base_uri": "https://localhost:8080/"
    },
    "executionInfo": {
     "elapsed": 1138,
     "status": "ok",
     "timestamp": 1619780212684,
     "user": {
      "displayName": "arun",
      "photoUrl": "https://lh3.googleusercontent.com/a-/AOh14GiZjC1NqmLHLG04TOAX59OXmxfoAjcgOrpA34WVvw=s64",
      "userId": "12591767503691125936"
     },
     "user_tz": -330
    },
    "id": "eO3z0FX3XT4l",
    "outputId": "6d7f1902-5b12-44e2-f7e9-d0439ca6cb27"
   },
   "outputs": [
    {
     "name": "stdout",
     "output_type": "stream",
     "text": [
      "Epoch [20], val_loss: 16301.3096\n",
      "Epoch [30], val_loss: 16301.1152\n"
     ]
    }
   ],
   "source": [
    "epochs = 30\n",
    "lr = 1e-6\n",
    "history1 = fit(epochs, lr, model, train_loader, val_loader)"
   ]
  },
  {
   "cell_type": "code",
   "execution_count": 60,
   "metadata": {
    "colab": {
     "base_uri": "https://localhost:8080/"
    },
    "executionInfo": {
     "elapsed": 2260,
     "status": "ok",
     "timestamp": 1619780218962,
     "user": {
      "displayName": "arun",
      "photoUrl": "https://lh3.googleusercontent.com/a-/AOh14GiZjC1NqmLHLG04TOAX59OXmxfoAjcgOrpA34WVvw=s64",
      "userId": "12591767503691125936"
     },
     "user_tz": -330
    },
    "id": "d-WB3c7dXT4l",
    "outputId": "0a98151a-1eda-4737-840f-249952ae4d41"
   },
   "outputs": [
    {
     "name": "stdout",
     "output_type": "stream",
     "text": [
      "Epoch [20], val_loss: 16262.3213\n",
      "Epoch [40], val_loss: 16223.5371\n",
      "Epoch [60], val_loss: 16184.7461\n",
      "Epoch [80], val_loss: 16145.9590\n",
      "Epoch [100], val_loss: 16107.1660\n"
     ]
    }
   ],
   "source": [
    "epochs = 100\n",
    "lr = 1e-4\n",
    "history2 = fit(epochs, lr, model, train_loader, val_loader)"
   ]
  },
  {
   "cell_type": "code",
   "execution_count": 61,
   "metadata": {
    "colab": {
     "base_uri": "https://localhost:8080/"
    },
    "executionInfo": {
     "elapsed": 2446,
     "status": "ok",
     "timestamp": 1619780223102,
     "user": {
      "displayName": "arun",
      "photoUrl": "https://lh3.googleusercontent.com/a-/AOh14GiZjC1NqmLHLG04TOAX59OXmxfoAjcgOrpA34WVvw=s64",
      "userId": "12591767503691125936"
     },
     "user_tz": -330
    },
    "id": "NLFCteXcXT4m",
    "outputId": "465a7787-c3df-4e3d-a0a3-d8f48aea54d7"
   },
   "outputs": [
    {
     "name": "stdout",
     "output_type": "stream",
     "text": [
      "Epoch [20], val_loss: 16103.2891\n",
      "Epoch [40], val_loss: 16099.4082\n",
      "Epoch [60], val_loss: 16095.5293\n",
      "Epoch [80], val_loss: 16091.6504\n",
      "Epoch [100], val_loss: 16087.7734\n"
     ]
    }
   ],
   "source": [
    "epochs = 100\n",
    "lr = 1e-5\n",
    "history3 = fit(epochs, lr, model, train_loader, val_loader)"
   ]
  },
  {
   "cell_type": "code",
   "execution_count": 62,
   "metadata": {
    "colab": {
     "base_uri": "https://localhost:8080/"
    },
    "executionInfo": {
     "elapsed": 2252,
     "status": "ok",
     "timestamp": 1619780226878,
     "user": {
      "displayName": "arun",
      "photoUrl": "https://lh3.googleusercontent.com/a-/AOh14GiZjC1NqmLHLG04TOAX59OXmxfoAjcgOrpA34WVvw=s64",
      "userId": "12591767503691125936"
     },
     "user_tz": -330
    },
    "id": "KsIU70cyXT4m",
    "outputId": "d6f38320-e0a6-4cbc-ae7d-686263e53385"
   },
   "outputs": [
    {
     "name": "stdout",
     "output_type": "stream",
     "text": [
      "Epoch [20], val_loss: 16087.3848\n",
      "Epoch [40], val_loss: 16086.9961\n",
      "Epoch [60], val_loss: 16086.6084\n",
      "Epoch [80], val_loss: 16086.2207\n",
      "Epoch [100], val_loss: 16085.8320\n"
     ]
    }
   ],
   "source": [
    "epochs = 100\n",
    "lr = 1e-6\n",
    "history4 = fit(epochs, lr, model, train_loader, val_loader)"
   ]
  },
  {
   "cell_type": "code",
   "execution_count": 63,
   "metadata": {
    "colab": {
     "base_uri": "https://localhost:8080/"
    },
    "executionInfo": {
     "elapsed": 2457,
     "status": "ok",
     "timestamp": 1619780230321,
     "user": {
      "displayName": "arun",
      "photoUrl": "https://lh3.googleusercontent.com/a-/AOh14GiZjC1NqmLHLG04TOAX59OXmxfoAjcgOrpA34WVvw=s64",
      "userId": "12591767503691125936"
     },
     "user_tz": -330
    },
    "id": "LuO-vJ_7XT4n",
    "outputId": "760c33ab-deba-4872-81b6-3dacd2db1318"
   },
   "outputs": [
    {
     "name": "stdout",
     "output_type": "stream",
     "text": [
      "Epoch [20], val_loss: 16047.0469\n",
      "Epoch [40], val_loss: 16008.2578\n",
      "Epoch [60], val_loss: 15969.4629\n",
      "Epoch [80], val_loss: 15930.6699\n",
      "Epoch [100], val_loss: 15891.8887\n"
     ]
    }
   ],
   "source": [
    "epochs = 100\n",
    "lr = 1e-4\n",
    "history5 = fit(epochs, lr, model, train_loader, val_loader)"
   ]
  },
  {
   "cell_type": "code",
   "execution_count": 64,
   "metadata": {
    "colab": {
     "base_uri": "https://localhost:8080/"
    },
    "executionInfo": {
     "elapsed": 12497,
     "status": "ok",
     "timestamp": 1619780273182,
     "user": {
      "displayName": "arun",
      "photoUrl": "https://lh3.googleusercontent.com/a-/AOh14GiZjC1NqmLHLG04TOAX59OXmxfoAjcgOrpA34WVvw=s64",
      "userId": "12591767503691125936"
     },
     "user_tz": -330
    },
    "id": "_Tsgv4H2bUuy",
    "outputId": "3f5c0f9c-0434-419a-fd82-1e20d05b3fba"
   },
   "outputs": [
    {
     "name": "stdout",
     "output_type": "stream",
     "text": [
      "Epoch [20], val_loss: 15853.1084\n",
      "Epoch [40], val_loss: 15814.3203\n",
      "Epoch [60], val_loss: 15775.5322\n",
      "Epoch [80], val_loss: 15736.7520\n",
      "Epoch [100], val_loss: 15697.9590\n",
      "Epoch [120], val_loss: 15659.1787\n",
      "Epoch [140], val_loss: 15620.3965\n",
      "Epoch [160], val_loss: 15581.6113\n",
      "Epoch [180], val_loss: 15542.8262\n",
      "Epoch [200], val_loss: 15504.0439\n",
      "Epoch [220], val_loss: 15465.2480\n",
      "Epoch [240], val_loss: 15426.4531\n",
      "Epoch [260], val_loss: 15387.6621\n",
      "Epoch [280], val_loss: 15348.8770\n",
      "Epoch [300], val_loss: 15310.0859\n",
      "Epoch [320], val_loss: 15271.3027\n",
      "Epoch [340], val_loss: 15232.5039\n",
      "Epoch [360], val_loss: 15193.7197\n",
      "Epoch [380], val_loss: 15154.9238\n",
      "Epoch [400], val_loss: 15116.1377\n",
      "Epoch [420], val_loss: 15077.3438\n",
      "Epoch [440], val_loss: 15038.5674\n",
      "Epoch [460], val_loss: 14999.7871\n",
      "Epoch [480], val_loss: 14961.0254\n",
      "Epoch [500], val_loss: 14922.3096\n",
      "Epoch [520], val_loss: 14883.6035\n",
      "Epoch [540], val_loss: 14844.8887\n",
      "Epoch [560], val_loss: 14806.1719\n",
      "Epoch [580], val_loss: 14767.4629\n",
      "Epoch [600], val_loss: 14728.8242\n",
      "Epoch [620], val_loss: 14690.2422\n",
      "Epoch [640], val_loss: 14651.6602\n",
      "Epoch [660], val_loss: 14613.1562\n",
      "Epoch [680], val_loss: 14574.8750\n",
      "Epoch [700], val_loss: 14536.5859\n",
      "Epoch [720], val_loss: 14498.4023\n",
      "Epoch [740], val_loss: 14460.4199\n",
      "Epoch [760], val_loss: 14422.4453\n",
      "Epoch [780], val_loss: 14384.5273\n",
      "Epoch [800], val_loss: 14346.8594\n",
      "Epoch [820], val_loss: 14309.2188\n",
      "Epoch [840], val_loss: 14271.5938\n",
      "Epoch [860], val_loss: 14233.9629\n",
      "Epoch [880], val_loss: 14196.3779\n",
      "Epoch [900], val_loss: 14158.9082\n",
      "Epoch [920], val_loss: 14121.6016\n",
      "Epoch [940], val_loss: 14084.4004\n",
      "Epoch [960], val_loss: 14047.3438\n",
      "Epoch [980], val_loss: 14010.4043\n",
      "Epoch [1000], val_loss: 13974.0547\n"
     ]
    }
   ],
   "source": [
    "epochs = 1000\n",
    "lr = 1e-4\n",
    "history6 = fit(epochs, lr, model, train_loader, val_loader)"
   ]
  },
  {
   "cell_type": "markdown",
   "metadata": {
    "id": "SRfH3tyUXT4n"
   },
   "source": [
    "**Q: What is the final validation loss of your model?**"
   ]
  },
  {
   "cell_type": "code",
   "execution_count": 65,
   "metadata": {
    "colab": {
     "base_uri": "https://localhost:8080/"
    },
    "executionInfo": {
     "elapsed": 1472,
     "status": "ok",
     "timestamp": 1619780291268,
     "user": {
      "displayName": "arun",
      "photoUrl": "https://lh3.googleusercontent.com/a-/AOh14GiZjC1NqmLHLG04TOAX59OXmxfoAjcgOrpA34WVvw=s64",
      "userId": "12591767503691125936"
     },
     "user_tz": -330
    },
    "id": "Woj0IfmFXT4o",
    "outputId": "681a3793-2a40-4290-ca04-9f53078a769d"
   },
   "outputs": [
    {
     "data": {
      "text/plain": [
       "{'val_loss': 13974.0546875}"
      ]
     },
     "execution_count": 65,
     "metadata": {
      "tags": []
     },
     "output_type": "execute_result"
    }
   ],
   "source": [
    "val_loss = evaluate(model, val_loader)\n",
    "val_loss"
   ]
  },
  {
   "cell_type": "markdown",
   "metadata": {
    "id": "8Tb3YTXDXT4o"
   },
   "source": [
    "Let's log the final validation loss to Jovian and commit the notebook"
   ]
  },
  {
   "cell_type": "code",
   "execution_count": 66,
   "metadata": {
    "colab": {
     "base_uri": "https://localhost:8080/"
    },
    "executionInfo": {
     "elapsed": 1642,
     "status": "ok",
     "timestamp": 1619780297015,
     "user": {
      "displayName": "arun",
      "photoUrl": "https://lh3.googleusercontent.com/a-/AOh14GiZjC1NqmLHLG04TOAX59OXmxfoAjcgOrpA34WVvw=s64",
      "userId": "12591767503691125936"
     },
     "user_tz": -330
    },
    "id": "LZEGFsKVXT4p",
    "outputId": "857450dc-ca60-4bde-a9f5-0bf93459cdd8"
   },
   "outputs": [
    {
     "name": "stdout",
     "output_type": "stream",
     "text": [
      "[jovian] Metrics logged.\u001b[0m\n"
     ]
    }
   ],
   "source": [
    "jovian.log_metrics(val_loss=val_loss)"
   ]
  },
  {
   "cell_type": "code",
   "execution_count": 67,
   "metadata": {
    "colab": {
     "base_uri": "https://localhost:8080/",
     "height": 103
    },
    "executionInfo": {
     "elapsed": 3728,
     "status": "ok",
     "timestamp": 1619780301374,
     "user": {
      "displayName": "arun",
      "photoUrl": "https://lh3.googleusercontent.com/a-/AOh14GiZjC1NqmLHLG04TOAX59OXmxfoAjcgOrpA34WVvw=s64",
      "userId": "12591767503691125936"
     },
     "user_tz": -330
    },
    "id": "3M13hmApXT4p",
    "outputId": "ba4274c7-30a4-4a5f-b495-d62ecb0d0f93"
   },
   "outputs": [
    {
     "name": "stdout",
     "output_type": "stream",
     "text": [
      "[jovian] Detected Colab notebook...\u001b[0m\n",
      "[jovian] Uploading colab notebook to Jovian...\u001b[0m\n",
      "[jovian] Attaching records (metrics, hyperparameters, dataset etc.)\u001b[0m\n",
      "[jovian] Committed successfully! https://jovian.ai/arunkumar68330/02-insurance-linear-regression\u001b[0m\n"
     ]
    },
    {
     "data": {
      "application/vnd.google.colaboratory.intrinsic+json": {
       "type": "string"
      },
      "text/plain": [
       "'https://jovian.ai/arunkumar68330/02-insurance-linear-regression'"
      ]
     },
     "execution_count": 67,
     "metadata": {
      "tags": []
     },
     "output_type": "execute_result"
    }
   ],
   "source": [
    "jovian.commit(project=project_name, environment=None)"
   ]
  },
  {
   "cell_type": "markdown",
   "metadata": {
    "id": "W3sKGXWpXT4p"
   },
   "source": [
    "Now scroll back up, re-initialize the model, and try different set of values for batch size, number of epochs, learning rate etc. Commit each experiment and use the \"Compare\" and \"View Diff\" options on Jovian to compare the different results."
   ]
  },
  {
   "cell_type": "markdown",
   "metadata": {
    "id": "4K9IWPEkXT4q"
   },
   "source": [
    "## Step 5: Make predictions using the trained model\n",
    "\n",
    "**Q: Complete the following function definition to make predictions on a single input**"
   ]
  },
  {
   "cell_type": "code",
   "execution_count": null,
   "metadata": {
    "id": "5bp79_afXT4q"
   },
   "outputs": [],
   "source": [
    "def predict_single(input, target, model):\n",
    "    inputs = input.unsqueeze(0)\n",
    "    predictions = model(inputs)                  # fill this\n",
    "    prediction = predictions[0].detach()\n",
    "    print(\"Input:\", input)\n",
    "    print(\"Target:\", target)\n",
    "    print(\"Prediction:\", prediction)"
   ]
  },
  {
   "cell_type": "code",
   "execution_count": null,
   "metadata": {
    "id": "p24dHhdzXT4r"
   },
   "outputs": [],
   "source": [
    "input, target = val_ds[0]\n",
    "predict_single(input, target, model)"
   ]
  },
  {
   "cell_type": "code",
   "execution_count": null,
   "metadata": {
    "id": "zGKd_Yp6XT4r"
   },
   "outputs": [],
   "source": [
    "input, target = val_ds[10]\n",
    "predict_single(input, target, model)"
   ]
  },
  {
   "cell_type": "code",
   "execution_count": null,
   "metadata": {
    "id": "7UM3Jzl0XT4s"
   },
   "outputs": [],
   "source": [
    "input, target = val_ds[23]\n",
    "predict_single(input, target, model)"
   ]
  },
  {
   "cell_type": "markdown",
   "metadata": {
    "id": "brec5JmDXT4s"
   },
   "source": [
    "Are you happy with your model's predictions? Try to improve them further."
   ]
  },
  {
   "cell_type": "markdown",
   "metadata": {
    "id": "ZfN8qmsNXT4u"
   },
   "source": [
    "## (Optional) Step 6: Try another dataset & blog about it\n",
    "\n",
    "While this last step is optional for the submission of your assignment, we highly recommend that you do it. Try to replicate this notebook for a different linear regression or logistic regression problem. This will help solidify your understanding, and give you a chance to differentiate the generic patterns in machine learning from problem-specific details.You can use one of these starer notebooks (just change the dataset):\n",
    "\n",
    "- Linear regression (minimal): https://jovian.ai/aakashns/housing-linear-minimal\n",
    "- Logistic regression (minimal): https://jovian.ai/aakashns/mnist-logistic-minimal\n",
    "\n",
    "Here are some sources to find good datasets:\n",
    "\n",
    "- https://lionbridge.ai/datasets/10-open-datasets-for-linear-regression/\n",
    "- https://www.kaggle.com/rtatman/datasets-for-regression-analysis\n",
    "- https://archive.ics.uci.edu/ml/datasets.php?format=&task=reg&att=&area=&numAtt=&numIns=&type=&sort=nameUp&view=table\n",
    "- https://people.sc.fsu.edu/~jburkardt/datasets/regression/regression.html\n",
    "- https://archive.ics.uci.edu/ml/datasets/wine+quality\n",
    "- https://pytorch.org/docs/stable/torchvision/datasets.html\n",
    "\n",
    "We also recommend that you write a blog about your approach to the problem. Here is a suggested structure for your post (feel free to experiment with it):\n",
    "\n",
    "- Interesting title & subtitle\n",
    "- Overview of what the blog covers (which dataset, linear regression or logistic regression, intro to PyTorch)\n",
    "- Downloading & exploring the data\n",
    "- Preparing the data for training\n",
    "- Creating a model using PyTorch\n",
    "- Training the model to fit the data\n",
    "- Your thoughts on how to experiment with different hyperparmeters to reduce loss\n",
    "- Making predictions using the model\n",
    "\n",
    "As with the previous assignment, you can [embed Juptyer notebook cells & outputs from Jovian](https://medium.com/jovianml/share-and-embed-jupyter-notebooks-online-with-jovian-ml-df709a03064e) into your blog. \n",
    "\n",
    "Don't forget to share your work on the forum: https://jovian.ai/forum/t/linear-regression-and-logistic-regression-notebooks-and-blog-posts/14039"
   ]
  },
  {
   "cell_type": "code",
   "execution_count": null,
   "metadata": {
    "id": "Zf1B6S7dXT4u",
    "outputId": "9f46c84e-7927-49e9-d1a7-8548183b06d1"
   },
   "outputs": [
    {
     "data": {
      "application/javascript": [
       "window.require && require([\"base/js/namespace\"],function(Jupyter){Jupyter.notebook.save_checkpoint()})"
      ],
      "text/plain": [
       "<IPython.core.display.Javascript object>"
      ]
     },
     "metadata": {
      "tags": []
     },
     "output_type": "display_data"
    },
    {
     "name": "stdout",
     "output_type": "stream",
     "text": [
      "[jovian] Attempting to save notebook..\u001b[0m\n",
      "[jovian] Updating notebook \"aakashns/02-insurance-linear-regression\" on https://jovian.ai/\u001b[0m\n",
      "[jovian] Uploading notebook..\u001b[0m\n",
      "[jovian] Committed successfully! https://jovian.ai/aakashns/02-insurance-linear-regression\u001b[0m\n"
     ]
    },
    {
     "data": {
      "application/javascript": [
       "window.require && require([\"base/js/namespace\"],function(Jupyter){Jupyter.notebook.save_checkpoint()})"
      ],
      "text/plain": [
       "<IPython.core.display.Javascript object>"
      ]
     },
     "metadata": {
      "tags": []
     },
     "output_type": "display_data"
    },
    {
     "name": "stdout",
     "output_type": "stream",
     "text": [
      "[jovian] Attempting to save notebook..\u001b[0m\n"
     ]
    }
   ],
   "source": [
    "jovian.commit(project=project_name, environment=None)\n",
    "jovian.commit(project=project_name, environment=None) # try again, kaggle fails sometimes"
   ]
  },
  {
   "cell_type": "code",
   "execution_count": null,
   "metadata": {
    "id": "uLOvg5lfXT4v"
   },
   "outputs": [],
   "source": []
  }
 ],
 "metadata": {
  "colab": {
   "name": "02-insurance-linear.ipynb",
   "provenance": []
  },
  "language_info": {
   "codemirror_mode": {
    "name": "ipython",
    "version": 3
   },
   "file_extension": ".py",
   "mimetype": "text/x-python",
   "name": "python",
   "nbconvert_exporter": "python",
   "pygments_lexer": "ipython3",
   "version": "3.8.5"
  },
  "widgets": {
   "application/vnd.jupyter.widget-state+json": {
    "1b0434bc4d9e4852984efaa6a430fe2b": {
     "model_module": "@jupyter-widgets/base",
     "model_name": "LayoutModel",
     "state": {
      "_model_module": "@jupyter-widgets/base",
      "_model_module_version": "1.2.0",
      "_model_name": "LayoutModel",
      "_view_count": null,
      "_view_module": "@jupyter-widgets/base",
      "_view_module_version": "1.2.0",
      "_view_name": "LayoutView",
      "align_content": null,
      "align_items": null,
      "align_self": null,
      "border": null,
      "bottom": null,
      "display": null,
      "flex": null,
      "flex_flow": null,
      "grid_area": null,
      "grid_auto_columns": null,
      "grid_auto_flow": null,
      "grid_auto_rows": null,
      "grid_column": null,
      "grid_gap": null,
      "grid_row": null,
      "grid_template_areas": null,
      "grid_template_columns": null,
      "grid_template_rows": null,
      "height": null,
      "justify_content": null,
      "justify_items": null,
      "left": null,
      "margin": null,
      "max_height": null,
      "max_width": null,
      "min_height": null,
      "min_width": null,
      "object_fit": null,
      "object_position": null,
      "order": null,
      "overflow": null,
      "overflow_x": null,
      "overflow_y": null,
      "padding": null,
      "right": null,
      "top": null,
      "visibility": null,
      "width": null
     }
    },
    "49db935f235f4647b7c6b22d4a4a6e1c": {
     "model_module": "@jupyter-widgets/base",
     "model_name": "LayoutModel",
     "state": {
      "_model_module": "@jupyter-widgets/base",
      "_model_module_version": "1.2.0",
      "_model_name": "LayoutModel",
      "_view_count": null,
      "_view_module": "@jupyter-widgets/base",
      "_view_module_version": "1.2.0",
      "_view_name": "LayoutView",
      "align_content": null,
      "align_items": null,
      "align_self": null,
      "border": null,
      "bottom": null,
      "display": null,
      "flex": null,
      "flex_flow": null,
      "grid_area": null,
      "grid_auto_columns": null,
      "grid_auto_flow": null,
      "grid_auto_rows": null,
      "grid_column": null,
      "grid_gap": null,
      "grid_row": null,
      "grid_template_areas": null,
      "grid_template_columns": null,
      "grid_template_rows": null,
      "height": null,
      "justify_content": null,
      "justify_items": null,
      "left": null,
      "margin": null,
      "max_height": null,
      "max_width": null,
      "min_height": null,
      "min_width": null,
      "object_fit": null,
      "object_position": null,
      "order": null,
      "overflow": null,
      "overflow_x": null,
      "overflow_y": null,
      "padding": null,
      "right": null,
      "top": null,
      "visibility": null,
      "width": null
     }
    },
    "756541055a654245a189729fcb1d3b2c": {
     "model_module": "@jupyter-widgets/base",
     "model_name": "LayoutModel",
     "state": {
      "_model_module": "@jupyter-widgets/base",
      "_model_module_version": "1.2.0",
      "_model_name": "LayoutModel",
      "_view_count": null,
      "_view_module": "@jupyter-widgets/base",
      "_view_module_version": "1.2.0",
      "_view_name": "LayoutView",
      "align_content": null,
      "align_items": null,
      "align_self": null,
      "border": null,
      "bottom": null,
      "display": null,
      "flex": null,
      "flex_flow": null,
      "grid_area": null,
      "grid_auto_columns": null,
      "grid_auto_flow": null,
      "grid_auto_rows": null,
      "grid_column": null,
      "grid_gap": null,
      "grid_row": null,
      "grid_template_areas": null,
      "grid_template_columns": null,
      "grid_template_rows": null,
      "height": null,
      "justify_content": null,
      "justify_items": null,
      "left": null,
      "margin": null,
      "max_height": null,
      "max_width": null,
      "min_height": null,
      "min_width": null,
      "object_fit": null,
      "object_position": null,
      "order": null,
      "overflow": null,
      "overflow_x": null,
      "overflow_y": null,
      "padding": null,
      "right": null,
      "top": null,
      "visibility": null,
      "width": null
     }
    },
    "7e387e847706454e98a098632f602967": {
     "model_module": "@jupyter-widgets/controls",
     "model_name": "DescriptionStyleModel",
     "state": {
      "_model_module": "@jupyter-widgets/controls",
      "_model_module_version": "1.5.0",
      "_model_name": "DescriptionStyleModel",
      "_view_count": null,
      "_view_module": "@jupyter-widgets/base",
      "_view_module_version": "1.2.0",
      "_view_name": "StyleView",
      "description_width": ""
     }
    },
    "a22905a6ec494dd7a8153a1ccebfcf3a": {
     "model_module": "@jupyter-widgets/controls",
     "model_name": "HTMLModel",
     "state": {
      "_dom_classes": [],
      "_model_module": "@jupyter-widgets/controls",
      "_model_module_version": "1.5.0",
      "_model_name": "HTMLModel",
      "_view_count": null,
      "_view_module": "@jupyter-widgets/controls",
      "_view_module_version": "1.5.0",
      "_view_name": "HTMLView",
      "description": "",
      "description_tooltip": null,
      "layout": "IPY_MODEL_756541055a654245a189729fcb1d3b2c",
      "placeholder": "​",
      "style": "IPY_MODEL_7e387e847706454e98a098632f602967",
      "value": " 56320/? [02:59&lt;00:00, 314.02it/s]"
     }
    },
    "b91fdeeb9c9a475ab4e88b727246658a": {
     "model_module": "@jupyter-widgets/controls",
     "model_name": "ProgressStyleModel",
     "state": {
      "_model_module": "@jupyter-widgets/controls",
      "_model_module_version": "1.5.0",
      "_model_name": "ProgressStyleModel",
      "_view_count": null,
      "_view_module": "@jupyter-widgets/base",
      "_view_module_version": "1.2.0",
      "_view_name": "StyleView",
      "bar_color": null,
      "description_width": "initial"
     }
    },
    "bb3f6d4ee0df42d1935f9b212bc0c293": {
     "model_module": "@jupyter-widgets/controls",
     "model_name": "HBoxModel",
     "state": {
      "_dom_classes": [],
      "_model_module": "@jupyter-widgets/controls",
      "_model_module_version": "1.5.0",
      "_model_name": "HBoxModel",
      "_view_count": null,
      "_view_module": "@jupyter-widgets/controls",
      "_view_module_version": "1.5.0",
      "_view_name": "HBoxView",
      "box_style": "",
      "children": [
       "IPY_MODEL_fffcc66a8630489f8c11df111b08da7e",
       "IPY_MODEL_a22905a6ec494dd7a8153a1ccebfcf3a"
      ],
      "layout": "IPY_MODEL_49db935f235f4647b7c6b22d4a4a6e1c"
     }
    },
    "fffcc66a8630489f8c11df111b08da7e": {
     "model_module": "@jupyter-widgets/controls",
     "model_name": "FloatProgressModel",
     "state": {
      "_dom_classes": [],
      "_model_module": "@jupyter-widgets/controls",
      "_model_module_version": "1.5.0",
      "_model_name": "FloatProgressModel",
      "_view_count": null,
      "_view_module": "@jupyter-widgets/controls",
      "_view_module_version": "1.5.0",
      "_view_name": "ProgressView",
      "bar_style": "success",
      "description": "",
      "description_tooltip": null,
      "layout": "IPY_MODEL_1b0434bc4d9e4852984efaa6a430fe2b",
      "max": 55628,
      "min": 0,
      "orientation": "horizontal",
      "style": "IPY_MODEL_b91fdeeb9c9a475ab4e88b727246658a",
      "value": 55628
     }
    }
   }
  }
 },
 "nbformat": 4,
 "nbformat_minor": 0
}